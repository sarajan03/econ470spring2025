{
 "cells": [
  {
   "cell_type": "code",
   "execution_count": 21,
   "metadata": {},
   "outputs": [],
   "source": [
    "import pandas as pd\n",
    "import numpy as np\n",
    "import matplotlib.pyplot as plt\n",
    "import seaborn as sns "
   ]
  },
  {
   "cell_type": "code",
   "execution_count": 29,
   "metadata": {},
   "outputs": [
    {
     "data": {
      "text/plain": [
       "'/Users/sushmitarajan/econ470spring2025/Homework2'"
      ]
     },
     "execution_count": 29,
     "metadata": {},
     "output_type": "execute_result"
    }
   ],
   "source": [
    "import os\n",
    "os.getcwd()"
   ]
  },
  {
   "cell_type": "code",
   "execution_count": 23,
   "metadata": {},
   "outputs": [],
   "source": [
    "final_hcris = pd.read_csv('/Users/sushmitarajan/econ470spring2025/Homework2/submission1/data/output/HCRIS_Data.csv')\n",
    "\n",
    "# my github repository- "
   ]
  },
  {
   "cell_type": "code",
   "execution_count": 24,
   "metadata": {},
   "outputs": [
    {
     "data": {
      "text/html": [
       "<div>\n",
       "<style scoped>\n",
       "    .dataframe tbody tr th:only-of-type {\n",
       "        vertical-align: middle;\n",
       "    }\n",
       "\n",
       "    .dataframe tbody tr th {\n",
       "        vertical-align: top;\n",
       "    }\n",
       "\n",
       "    .dataframe thead th {\n",
       "        text-align: right;\n",
       "    }\n",
       "</style>\n",
       "<table border=\"1\" class=\"dataframe\">\n",
       "  <thead>\n",
       "    <tr style=\"text-align: right;\">\n",
       "      <th></th>\n",
       "      <th>provider_number</th>\n",
       "      <th>fy_start</th>\n",
       "      <th>fy_end</th>\n",
       "      <th>date_processed</th>\n",
       "      <th>date_created</th>\n",
       "      <th>beds</th>\n",
       "      <th>tot_charges</th>\n",
       "      <th>tot_discounts</th>\n",
       "      <th>tot_operating_exp</th>\n",
       "      <th>ip_charges</th>\n",
       "      <th>...</th>\n",
       "      <th>secondary_mcare_payment</th>\n",
       "      <th>street</th>\n",
       "      <th>city</th>\n",
       "      <th>state</th>\n",
       "      <th>zip</th>\n",
       "      <th>county</th>\n",
       "      <th>hvbp_payment</th>\n",
       "      <th>hrrp_payment</th>\n",
       "      <th>year</th>\n",
       "      <th>source</th>\n",
       "    </tr>\n",
       "  </thead>\n",
       "  <tbody>\n",
       "    <tr>\n",
       "      <th>0</th>\n",
       "      <td>10001</td>\n",
       "      <td>1997-10-01</td>\n",
       "      <td>1998-09-30</td>\n",
       "      <td>2002-08-01</td>\n",
       "      <td>2001-06-27</td>\n",
       "      <td>425.0</td>\n",
       "      <td>3.048881e+08</td>\n",
       "      <td>1.489623e+08</td>\n",
       "      <td>133530676.0</td>\n",
       "      <td>37559906.0</td>\n",
       "      <td>...</td>\n",
       "      <td>60111.0</td>\n",
       "      <td>1108 ROSS CLARK CIRCLE</td>\n",
       "      <td>DOTHAN</td>\n",
       "      <td>AL</td>\n",
       "      <td>36301-</td>\n",
       "      <td>HOUSTON</td>\n",
       "      <td>NaN</td>\n",
       "      <td>NaN</td>\n",
       "      <td>1998</td>\n",
       "      <td>unique reports</td>\n",
       "    </tr>\n",
       "    <tr>\n",
       "      <th>1</th>\n",
       "      <td>10001</td>\n",
       "      <td>2010-10-01</td>\n",
       "      <td>2011-09-30</td>\n",
       "      <td>2012-11-09</td>\n",
       "      <td>2012-11-09</td>\n",
       "      <td>408.0</td>\n",
       "      <td>1.208332e+09</td>\n",
       "      <td>9.577269e+08</td>\n",
       "      <td>267292928.0</td>\n",
       "      <td>110484675.0</td>\n",
       "      <td>...</td>\n",
       "      <td>35367.0</td>\n",
       "      <td>NaN</td>\n",
       "      <td>NaN</td>\n",
       "      <td>NaN</td>\n",
       "      <td>NaN</td>\n",
       "      <td>NaN</td>\n",
       "      <td>NaN</td>\n",
       "      <td>NaN</td>\n",
       "      <td>2011</td>\n",
       "      <td>unique reports</td>\n",
       "    </tr>\n",
       "    <tr>\n",
       "      <th>2</th>\n",
       "      <td>10001</td>\n",
       "      <td>2011-10-01</td>\n",
       "      <td>2012-09-30</td>\n",
       "      <td>2013-11-15</td>\n",
       "      <td>2013-11-15</td>\n",
       "      <td>408.0</td>\n",
       "      <td>1.263056e+09</td>\n",
       "      <td>1.008222e+09</td>\n",
       "      <td>274011907.0</td>\n",
       "      <td>116037225.0</td>\n",
       "      <td>...</td>\n",
       "      <td>55155.0</td>\n",
       "      <td>NaN</td>\n",
       "      <td>NaN</td>\n",
       "      <td>NaN</td>\n",
       "      <td>NaN</td>\n",
       "      <td>NaN</td>\n",
       "      <td>NaN</td>\n",
       "      <td>NaN</td>\n",
       "      <td>2012</td>\n",
       "      <td>unique reports</td>\n",
       "    </tr>\n",
       "    <tr>\n",
       "      <th>3</th>\n",
       "      <td>10001</td>\n",
       "      <td>2012-10-01</td>\n",
       "      <td>2013-09-30</td>\n",
       "      <td>2014-09-26</td>\n",
       "      <td>2014-03-17</td>\n",
       "      <td>408.0</td>\n",
       "      <td>1.305720e+09</td>\n",
       "      <td>1.043723e+09</td>\n",
       "      <td>284850485.0</td>\n",
       "      <td>76820374.0</td>\n",
       "      <td>...</td>\n",
       "      <td>58522.0</td>\n",
       "      <td>NaN</td>\n",
       "      <td>NaN</td>\n",
       "      <td>NaN</td>\n",
       "      <td>NaN</td>\n",
       "      <td>NaN</td>\n",
       "      <td>-101118.0</td>\n",
       "      <td>NaN</td>\n",
       "      <td>2013</td>\n",
       "      <td>unique reports</td>\n",
       "    </tr>\n",
       "    <tr>\n",
       "      <th>4</th>\n",
       "      <td>10001</td>\n",
       "      <td>2013-10-01</td>\n",
       "      <td>2014-09-30</td>\n",
       "      <td>2015-03-13</td>\n",
       "      <td>2015-03-11</td>\n",
       "      <td>398.0</td>\n",
       "      <td>1.451186e+09</td>\n",
       "      <td>1.160976e+09</td>\n",
       "      <td>313050295.0</td>\n",
       "      <td>129439329.0</td>\n",
       "      <td>...</td>\n",
       "      <td>56453.0</td>\n",
       "      <td>NaN</td>\n",
       "      <td>NaN</td>\n",
       "      <td>NaN</td>\n",
       "      <td>NaN</td>\n",
       "      <td>NaN</td>\n",
       "      <td>68134.0</td>\n",
       "      <td>NaN</td>\n",
       "      <td>2014</td>\n",
       "      <td>unique reports</td>\n",
       "    </tr>\n",
       "  </tbody>\n",
       "</table>\n",
       "<p>5 rows × 26 columns</p>\n",
       "</div>"
      ],
      "text/plain": [
       "   provider_number    fy_start      fy_end date_processed date_created   beds  \\\n",
       "0            10001  1997-10-01  1998-09-30     2002-08-01   2001-06-27  425.0   \n",
       "1            10001  2010-10-01  2011-09-30     2012-11-09   2012-11-09  408.0   \n",
       "2            10001  2011-10-01  2012-09-30     2013-11-15   2013-11-15  408.0   \n",
       "3            10001  2012-10-01  2013-09-30     2014-09-26   2014-03-17  408.0   \n",
       "4            10001  2013-10-01  2014-09-30     2015-03-13   2015-03-11  398.0   \n",
       "\n",
       "    tot_charges  tot_discounts  tot_operating_exp   ip_charges  ...  \\\n",
       "0  3.048881e+08   1.489623e+08        133530676.0   37559906.0  ...   \n",
       "1  1.208332e+09   9.577269e+08        267292928.0  110484675.0  ...   \n",
       "2  1.263056e+09   1.008222e+09        274011907.0  116037225.0  ...   \n",
       "3  1.305720e+09   1.043723e+09        284850485.0   76820374.0  ...   \n",
       "4  1.451186e+09   1.160976e+09        313050295.0  129439329.0  ...   \n",
       "\n",
       "   secondary_mcare_payment                  street    city  state     zip  \\\n",
       "0                  60111.0  1108 ROSS CLARK CIRCLE  DOTHAN     AL  36301-   \n",
       "1                  35367.0                     NaN     NaN    NaN     NaN   \n",
       "2                  55155.0                     NaN     NaN    NaN     NaN   \n",
       "3                  58522.0                     NaN     NaN    NaN     NaN   \n",
       "4                  56453.0                     NaN     NaN    NaN     NaN   \n",
       "\n",
       "    county  hvbp_payment hrrp_payment  year          source  \n",
       "0  HOUSTON           NaN          NaN  1998  unique reports  \n",
       "1      NaN           NaN          NaN  2011  unique reports  \n",
       "2      NaN           NaN          NaN  2012  unique reports  \n",
       "3      NaN     -101118.0          NaN  2013  unique reports  \n",
       "4      NaN       68134.0          NaN  2014  unique reports  \n",
       "\n",
       "[5 rows x 26 columns]"
      ]
     },
     "execution_count": 24,
     "metadata": {},
     "output_type": "execute_result"
    }
   ],
   "source": [
    "final_hcris.describe()\n",
    "final_hcris.head()"
   ]
  },
  {
   "cell_type": "markdown",
   "metadata": {},
   "source": [
    "1. How many hospitals filed more than one report in the same year? Show your answer as a line graph of the number of hospitals over time."
   ]
  },
  {
   "cell_type": "code",
   "execution_count": 25,
   "metadata": {},
   "outputs": [
    {
     "data": {
      "image/png": "[encoded data removed]",
      "text/plain": [
       "<Figure size 640x480 with 1 Axes>"
      ]
     },
     "metadata": {},
     "output_type": "display_data"
    }
   ],
   "source": [
    "# Count hospitals that filed more than one report in the same year\n",
    "duplicate_hcris = final_hcris.groupby(['provider_number', 'year']).size().reset_index(name='report_count')\n",
    "duplicate_hcris =duplicate_hcris[duplicate_hcris['report_count'] > 1]\n",
    "\n",
    "#Unique number of hospitals\n",
    "count = duplicate_hcris.groupby('year')['provider_number'].nunique()\n",
    "\n",
    "# Plot the results\n",
    "plt.figure()\n",
    "plt.plot(count.index, count.values)\n",
    "plt.xlabel('Year')\n",
    "plt.ylabel('Number of Hospitals')\n",
    "plt.title('Hospitals Filing More Than One Report Per Year Over Time')\n",
    "plt.grid(True)\n",
    "plt.show()\n"
   ]
  },
  {
   "cell_type": "markdown",
   "metadata": {},
   "source": [
    "2. After removing/combining multiple reports, how many unique hospital IDs (Medicare provider numbers) exist in the data?"
   ]
  },
  {
   "cell_type": "code",
   "execution_count": 13,
   "metadata": {},
   "outputs": [
    {
     "name": "stdout",
     "output_type": "stream",
     "text": [
      "Total Unique Hospitals: 8812\n"
     ]
    }
   ],
   "source": [
    "# Unique Hospital Count After Removing Multiple Reports\n",
    "unique_hospitals = final_hcris['provider_number'].nunique()\n",
    "print(f\"Total Unique Hospitals: {unique_hospitals}\")"
   ]
  },
  {
   "cell_type": "markdown",
   "metadata": {},
   "source": [
    "3. What is the distribution of total charges (tot_charges in the data) in each year? Show your results with a “violin” plot, with charges on the y-axis and years on the x-axis. "
   ]
  },
  {
   "cell_type": "code",
   "execution_count": 14,
   "metadata": {},
   "outputs": [
    {
     "data": {
      "image/png": "[encoded data removed]",
      "text/plain": [
       "<Figure size 1200x600 with 1 Axes>"
      ]
     },
     "metadata": {},
     "output_type": "display_data"
    }
   ],
   "source": [
    "years = sorted(final_hcris['year'].dropna().unique())\n",
    "df_tot_charges = [final_hcris[final_hcris['year'] == y]['tot_charges'] for y in years]\n",
    "# Plot\n",
    "plt.figure(figsize=(12, 6))\n",
    "plt.violinplot(df_tot_charges, showmedians=True)\n",
    "plt.xlabel('Year')\n",
    "plt.ylabel('Total Charges ($)')\n",
    "plt.title('Total Charges Distribution by Year')\n",
    "\n",
    "plt.show()"
   ]
  },
  {
   "cell_type": "markdown",
   "metadata": {},
   "source": [
    "4.What is the distribution of estimated prices in each year? Again present your results with a violin plot, and recall our formula for estimating prices from class. Be sure to do something about outliers and/or negative prices in the data.\n",
    "\n"
   ]
  },
  {
   "cell_type": "code",
   "execution_count": 15,
   "metadata": {},
   "outputs": [
    {
     "ename": "ValueError",
     "evalue": "zero-size array to reduction operation minimum which has no identity",
     "output_type": "error",
     "traceback": [
      "\u001b[0;31m---------------------------------------------------------------------------\u001b[0m",
      "\u001b[0;31mValueError\u001b[0m                                Traceback (most recent call last)",
      "Cell \u001b[0;32mIn[15], line 26\u001b[0m\n\u001b[1;32m     24\u001b[0m \u001b[38;5;66;03m# Plot\u001b[39;00m\n\u001b[1;32m     25\u001b[0m plt\u001b[38;5;241m.\u001b[39mfigure()\n\u001b[0;32m---> 26\u001b[0m \u001b[43mplt\u001b[49m\u001b[38;5;241;43m.\u001b[39;49m\u001b[43mviolinplot\u001b[49m\u001b[43m(\u001b[49m\u001b[43mestimated_price_df\u001b[49m\u001b[43m,\u001b[49m\u001b[43m \u001b[49m\u001b[43mshowmedians\u001b[49m\u001b[38;5;241;43m=\u001b[39;49m\u001b[38;5;28;43;01mTrue\u001b[39;49;00m\u001b[43m)\u001b[49m\n\u001b[1;32m     27\u001b[0m plt\u001b[38;5;241m.\u001b[39mxticks(\u001b[38;5;28mrange\u001b[39m(\u001b[38;5;241m1\u001b[39m, \u001b[38;5;28mlen\u001b[39m(ep_years) \u001b[38;5;241m+\u001b[39m \u001b[38;5;241m1\u001b[39m), ep_years, rotation\u001b[38;5;241m=\u001b[39m\u001b[38;5;241m45\u001b[39m)\n\u001b[1;32m     28\u001b[0m plt\u001b[38;5;241m.\u001b[39mxlabel(\u001b[38;5;124m'\u001b[39m\u001b[38;5;124mYear\u001b[39m\u001b[38;5;124m'\u001b[39m)\n",
      "File \u001b[0;32m/Library/Frameworks/Python.framework/Versions/3.11/lib/python3.11/site-packages/matplotlib/pyplot.py:2981\u001b[0m, in \u001b[0;36mviolinplot\u001b[0;34m(dataset, positions, vert, widths, showmeans, showextrema, showmedians, quantiles, points, bw_method, data)\u001b[0m\n\u001b[1;32m   2976\u001b[0m \u001b[38;5;129m@_copy_docstring_and_deprecators\u001b[39m(Axes\u001b[38;5;241m.\u001b[39mviolinplot)\n\u001b[1;32m   2977\u001b[0m \u001b[38;5;28;01mdef\u001b[39;00m \u001b[38;5;21mviolinplot\u001b[39m(\n\u001b[1;32m   2978\u001b[0m         dataset, positions\u001b[38;5;241m=\u001b[39m\u001b[38;5;28;01mNone\u001b[39;00m, vert\u001b[38;5;241m=\u001b[39m\u001b[38;5;28;01mTrue\u001b[39;00m, widths\u001b[38;5;241m=\u001b[39m\u001b[38;5;241m0.5\u001b[39m,\n\u001b[1;32m   2979\u001b[0m         showmeans\u001b[38;5;241m=\u001b[39m\u001b[38;5;28;01mFalse\u001b[39;00m, showextrema\u001b[38;5;241m=\u001b[39m\u001b[38;5;28;01mTrue\u001b[39;00m, showmedians\u001b[38;5;241m=\u001b[39m\u001b[38;5;28;01mFalse\u001b[39;00m,\n\u001b[1;32m   2980\u001b[0m         quantiles\u001b[38;5;241m=\u001b[39m\u001b[38;5;28;01mNone\u001b[39;00m, points\u001b[38;5;241m=\u001b[39m\u001b[38;5;241m100\u001b[39m, bw_method\u001b[38;5;241m=\u001b[39m\u001b[38;5;28;01mNone\u001b[39;00m, \u001b[38;5;241m*\u001b[39m, data\u001b[38;5;241m=\u001b[39m\u001b[38;5;28;01mNone\u001b[39;00m):\n\u001b[0;32m-> 2981\u001b[0m     \u001b[38;5;28;01mreturn\u001b[39;00m \u001b[43mgca\u001b[49m\u001b[43m(\u001b[49m\u001b[43m)\u001b[49m\u001b[38;5;241;43m.\u001b[39;49m\u001b[43mviolinplot\u001b[49m\u001b[43m(\u001b[49m\n\u001b[1;32m   2982\u001b[0m \u001b[43m        \u001b[49m\u001b[43mdataset\u001b[49m\u001b[43m,\u001b[49m\u001b[43m \u001b[49m\u001b[43mpositions\u001b[49m\u001b[38;5;241;43m=\u001b[39;49m\u001b[43mpositions\u001b[49m\u001b[43m,\u001b[49m\u001b[43m \u001b[49m\u001b[43mvert\u001b[49m\u001b[38;5;241;43m=\u001b[39;49m\u001b[43mvert\u001b[49m\u001b[43m,\u001b[49m\u001b[43m \u001b[49m\u001b[43mwidths\u001b[49m\u001b[38;5;241;43m=\u001b[39;49m\u001b[43mwidths\u001b[49m\u001b[43m,\u001b[49m\n\u001b[1;32m   2983\u001b[0m \u001b[43m        \u001b[49m\u001b[43mshowmeans\u001b[49m\u001b[38;5;241;43m=\u001b[39;49m\u001b[43mshowmeans\u001b[49m\u001b[43m,\u001b[49m\u001b[43m \u001b[49m\u001b[43mshowextrema\u001b[49m\u001b[38;5;241;43m=\u001b[39;49m\u001b[43mshowextrema\u001b[49m\u001b[43m,\u001b[49m\n\u001b[1;32m   2984\u001b[0m \u001b[43m        \u001b[49m\u001b[43mshowmedians\u001b[49m\u001b[38;5;241;43m=\u001b[39;49m\u001b[43mshowmedians\u001b[49m\u001b[43m,\u001b[49m\u001b[43m \u001b[49m\u001b[43mquantiles\u001b[49m\u001b[38;5;241;43m=\u001b[39;49m\u001b[43mquantiles\u001b[49m\u001b[43m,\u001b[49m\u001b[43m \u001b[49m\u001b[43mpoints\u001b[49m\u001b[38;5;241;43m=\u001b[39;49m\u001b[43mpoints\u001b[49m\u001b[43m,\u001b[49m\n\u001b[1;32m   2985\u001b[0m \u001b[43m        \u001b[49m\u001b[43mbw_method\u001b[49m\u001b[38;5;241;43m=\u001b[39;49m\u001b[43mbw_method\u001b[49m\u001b[43m,\u001b[49m\n\u001b[1;32m   2986\u001b[0m \u001b[43m        \u001b[49m\u001b[38;5;241;43m*\u001b[39;49m\u001b[38;5;241;43m*\u001b[39;49m\u001b[43m(\u001b[49m\u001b[43m{\u001b[49m\u001b[38;5;124;43m\"\u001b[39;49m\u001b[38;5;124;43mdata\u001b[39;49m\u001b[38;5;124;43m\"\u001b[39;49m\u001b[43m:\u001b[49m\u001b[43m \u001b[49m\u001b[43mdata\u001b[49m\u001b[43m}\u001b[49m\u001b[43m \u001b[49m\u001b[38;5;28;43;01mif\u001b[39;49;00m\u001b[43m \u001b[49m\u001b[43mdata\u001b[49m\u001b[43m \u001b[49m\u001b[38;5;129;43;01mis\u001b[39;49;00m\u001b[43m \u001b[49m\u001b[38;5;129;43;01mnot\u001b[39;49;00m\u001b[43m \u001b[49m\u001b[38;5;28;43;01mNone\u001b[39;49;00m\u001b[43m \u001b[49m\u001b[38;5;28;43;01melse\u001b[39;49;00m\u001b[43m \u001b[49m\u001b[43m{\u001b[49m\u001b[43m}\u001b[49m\u001b[43m)\u001b[49m\u001b[43m)\u001b[49m\n",
      "File \u001b[0;32m/Library/Frameworks/Python.framework/Versions/3.11/lib/python3.11/site-packages/matplotlib/__init__.py:1433\u001b[0m, in \u001b[0;36m_preprocess_data.<locals>.inner\u001b[0;34m(ax, data, *args, **kwargs)\u001b[0m\n\u001b[1;32m   1430\u001b[0m \u001b[38;5;129m@functools\u001b[39m\u001b[38;5;241m.\u001b[39mwraps(func)\n\u001b[1;32m   1431\u001b[0m \u001b[38;5;28;01mdef\u001b[39;00m \u001b[38;5;21minner\u001b[39m(ax, \u001b[38;5;241m*\u001b[39margs, data\u001b[38;5;241m=\u001b[39m\u001b[38;5;28;01mNone\u001b[39;00m, \u001b[38;5;241m*\u001b[39m\u001b[38;5;241m*\u001b[39mkwargs):\n\u001b[1;32m   1432\u001b[0m     \u001b[38;5;28;01mif\u001b[39;00m data \u001b[38;5;129;01mis\u001b[39;00m \u001b[38;5;28;01mNone\u001b[39;00m:\n\u001b[0;32m-> 1433\u001b[0m         \u001b[38;5;28;01mreturn\u001b[39;00m \u001b[43mfunc\u001b[49m\u001b[43m(\u001b[49m\u001b[43max\u001b[49m\u001b[43m,\u001b[49m\u001b[43m \u001b[49m\u001b[38;5;241;43m*\u001b[39;49m\u001b[38;5;28;43mmap\u001b[39;49m\u001b[43m(\u001b[49m\u001b[43msanitize_sequence\u001b[49m\u001b[43m,\u001b[49m\u001b[43m \u001b[49m\u001b[43margs\u001b[49m\u001b[43m)\u001b[49m\u001b[43m,\u001b[49m\u001b[43m \u001b[49m\u001b[38;5;241;43m*\u001b[39;49m\u001b[38;5;241;43m*\u001b[39;49m\u001b[43mkwargs\u001b[49m\u001b[43m)\u001b[49m\n\u001b[1;32m   1435\u001b[0m     bound \u001b[38;5;241m=\u001b[39m new_sig\u001b[38;5;241m.\u001b[39mbind(ax, \u001b[38;5;241m*\u001b[39margs, \u001b[38;5;241m*\u001b[39m\u001b[38;5;241m*\u001b[39mkwargs)\n\u001b[1;32m   1436\u001b[0m     auto_label \u001b[38;5;241m=\u001b[39m (bound\u001b[38;5;241m.\u001b[39marguments\u001b[38;5;241m.\u001b[39mget(label_namer)\n\u001b[1;32m   1437\u001b[0m                   \u001b[38;5;129;01mor\u001b[39;00m bound\u001b[38;5;241m.\u001b[39mkwargs\u001b[38;5;241m.\u001b[39mget(label_namer))\n",
      "File \u001b[0;32m/Library/Frameworks/Python.framework/Versions/3.11/lib/python3.11/site-packages/matplotlib/axes/_axes.py:8043\u001b[0m, in \u001b[0;36mAxes.violinplot\u001b[0;34m(self, dataset, positions, vert, widths, showmeans, showextrema, showmedians, quantiles, points, bw_method)\u001b[0m\n\u001b[1;32m   8040\u001b[0m     kde \u001b[38;5;241m=\u001b[39m mlab\u001b[38;5;241m.\u001b[39mGaussianKDE(X, bw_method)\n\u001b[1;32m   8041\u001b[0m     \u001b[38;5;28;01mreturn\u001b[39;00m kde\u001b[38;5;241m.\u001b[39mevaluate(coords)\n\u001b[0;32m-> 8043\u001b[0m vpstats \u001b[38;5;241m=\u001b[39m \u001b[43mcbook\u001b[49m\u001b[38;5;241;43m.\u001b[39;49m\u001b[43mviolin_stats\u001b[49m\u001b[43m(\u001b[49m\u001b[43mdataset\u001b[49m\u001b[43m,\u001b[49m\u001b[43m \u001b[49m\u001b[43m_kde_method\u001b[49m\u001b[43m,\u001b[49m\u001b[43m \u001b[49m\u001b[43mpoints\u001b[49m\u001b[38;5;241;43m=\u001b[39;49m\u001b[43mpoints\u001b[49m\u001b[43m,\u001b[49m\n\u001b[1;32m   8044\u001b[0m \u001b[43m                             \u001b[49m\u001b[43mquantiles\u001b[49m\u001b[38;5;241;43m=\u001b[39;49m\u001b[43mquantiles\u001b[49m\u001b[43m)\u001b[49m\n\u001b[1;32m   8045\u001b[0m \u001b[38;5;28;01mreturn\u001b[39;00m \u001b[38;5;28mself\u001b[39m\u001b[38;5;241m.\u001b[39mviolin(vpstats, positions\u001b[38;5;241m=\u001b[39mpositions, vert\u001b[38;5;241m=\u001b[39mvert,\n\u001b[1;32m   8046\u001b[0m                    widths\u001b[38;5;241m=\u001b[39mwidths, showmeans\u001b[38;5;241m=\u001b[39mshowmeans,\n\u001b[1;32m   8047\u001b[0m                    showextrema\u001b[38;5;241m=\u001b[39mshowextrema, showmedians\u001b[38;5;241m=\u001b[39mshowmedians)\n",
      "File \u001b[0;32m/Library/Frameworks/Python.framework/Versions/3.11/lib/python3.11/site-packages/matplotlib/cbook/__init__.py:1523\u001b[0m, in \u001b[0;36mviolin_stats\u001b[0;34m(X, method, points, quantiles)\u001b[0m\n\u001b[1;32m   1520\u001b[0m stats \u001b[38;5;241m=\u001b[39m {}\n\u001b[1;32m   1522\u001b[0m \u001b[38;5;66;03m# Calculate basic stats for the distribution\u001b[39;00m\n\u001b[0;32m-> 1523\u001b[0m min_val \u001b[38;5;241m=\u001b[39m \u001b[43mnp\u001b[49m\u001b[38;5;241;43m.\u001b[39;49m\u001b[43mmin\u001b[49m\u001b[43m(\u001b[49m\u001b[43mx\u001b[49m\u001b[43m)\u001b[49m\n\u001b[1;32m   1524\u001b[0m max_val \u001b[38;5;241m=\u001b[39m np\u001b[38;5;241m.\u001b[39mmax(x)\n\u001b[1;32m   1525\u001b[0m quantile_val \u001b[38;5;241m=\u001b[39m np\u001b[38;5;241m.\u001b[39mpercentile(x, \u001b[38;5;241m100\u001b[39m \u001b[38;5;241m*\u001b[39m q)\n",
      "File \u001b[0;32m<__array_function__ internals>:200\u001b[0m, in \u001b[0;36mamin\u001b[0;34m(*args, **kwargs)\u001b[0m\n",
      "File \u001b[0;32m/Library/Frameworks/Python.framework/Versions/3.11/lib/python3.11/site-packages/numpy/core/fromnumeric.py:2946\u001b[0m, in \u001b[0;36mamin\u001b[0;34m(a, axis, out, keepdims, initial, where)\u001b[0m\n\u001b[1;32m   2829\u001b[0m \u001b[38;5;129m@array_function_dispatch\u001b[39m(_amin_dispatcher)\n\u001b[1;32m   2830\u001b[0m \u001b[38;5;28;01mdef\u001b[39;00m \u001b[38;5;21mamin\u001b[39m(a, axis\u001b[38;5;241m=\u001b[39m\u001b[38;5;28;01mNone\u001b[39;00m, out\u001b[38;5;241m=\u001b[39m\u001b[38;5;28;01mNone\u001b[39;00m, keepdims\u001b[38;5;241m=\u001b[39mnp\u001b[38;5;241m.\u001b[39m_NoValue, initial\u001b[38;5;241m=\u001b[39mnp\u001b[38;5;241m.\u001b[39m_NoValue,\n\u001b[1;32m   2831\u001b[0m          where\u001b[38;5;241m=\u001b[39mnp\u001b[38;5;241m.\u001b[39m_NoValue):\n\u001b[1;32m   2832\u001b[0m \u001b[38;5;250m    \u001b[39m\u001b[38;5;124;03m\"\"\"\u001b[39;00m\n\u001b[1;32m   2833\u001b[0m \u001b[38;5;124;03m    Return the minimum of an array or minimum along an axis.\u001b[39;00m\n\u001b[1;32m   2834\u001b[0m \n\u001b[0;32m   (...)\u001b[0m\n\u001b[1;32m   2944\u001b[0m \u001b[38;5;124;03m    6\u001b[39;00m\n\u001b[1;32m   2945\u001b[0m \u001b[38;5;124;03m    \"\"\"\u001b[39;00m\n\u001b[0;32m-> 2946\u001b[0m     \u001b[38;5;28;01mreturn\u001b[39;00m \u001b[43m_wrapreduction\u001b[49m\u001b[43m(\u001b[49m\u001b[43ma\u001b[49m\u001b[43m,\u001b[49m\u001b[43m \u001b[49m\u001b[43mnp\u001b[49m\u001b[38;5;241;43m.\u001b[39;49m\u001b[43mminimum\u001b[49m\u001b[43m,\u001b[49m\u001b[43m \u001b[49m\u001b[38;5;124;43m'\u001b[39;49m\u001b[38;5;124;43mmin\u001b[39;49m\u001b[38;5;124;43m'\u001b[39;49m\u001b[43m,\u001b[49m\u001b[43m \u001b[49m\u001b[43maxis\u001b[49m\u001b[43m,\u001b[49m\u001b[43m \u001b[49m\u001b[38;5;28;43;01mNone\u001b[39;49;00m\u001b[43m,\u001b[49m\u001b[43m \u001b[49m\u001b[43mout\u001b[49m\u001b[43m,\u001b[49m\n\u001b[1;32m   2947\u001b[0m \u001b[43m                          \u001b[49m\u001b[43mkeepdims\u001b[49m\u001b[38;5;241;43m=\u001b[39;49m\u001b[43mkeepdims\u001b[49m\u001b[43m,\u001b[49m\u001b[43m \u001b[49m\u001b[43minitial\u001b[49m\u001b[38;5;241;43m=\u001b[39;49m\u001b[43minitial\u001b[49m\u001b[43m,\u001b[49m\u001b[43m \u001b[49m\u001b[43mwhere\u001b[49m\u001b[38;5;241;43m=\u001b[39;49m\u001b[43mwhere\u001b[49m\u001b[43m)\u001b[49m\n",
      "File \u001b[0;32m/Library/Frameworks/Python.framework/Versions/3.11/lib/python3.11/site-packages/numpy/core/fromnumeric.py:86\u001b[0m, in \u001b[0;36m_wrapreduction\u001b[0;34m(obj, ufunc, method, axis, dtype, out, **kwargs)\u001b[0m\n\u001b[1;32m     83\u001b[0m         \u001b[38;5;28;01melse\u001b[39;00m:\n\u001b[1;32m     84\u001b[0m             \u001b[38;5;28;01mreturn\u001b[39;00m reduction(axis\u001b[38;5;241m=\u001b[39maxis, out\u001b[38;5;241m=\u001b[39mout, \u001b[38;5;241m*\u001b[39m\u001b[38;5;241m*\u001b[39mpasskwargs)\n\u001b[0;32m---> 86\u001b[0m \u001b[38;5;28;01mreturn\u001b[39;00m \u001b[43mufunc\u001b[49m\u001b[38;5;241;43m.\u001b[39;49m\u001b[43mreduce\u001b[49m\u001b[43m(\u001b[49m\u001b[43mobj\u001b[49m\u001b[43m,\u001b[49m\u001b[43m \u001b[49m\u001b[43maxis\u001b[49m\u001b[43m,\u001b[49m\u001b[43m \u001b[49m\u001b[43mdtype\u001b[49m\u001b[43m,\u001b[49m\u001b[43m \u001b[49m\u001b[43mout\u001b[49m\u001b[43m,\u001b[49m\u001b[43m \u001b[49m\u001b[38;5;241;43m*\u001b[39;49m\u001b[38;5;241;43m*\u001b[39;49m\u001b[43mpasskwargs\u001b[49m\u001b[43m)\u001b[49m\n",
      "\u001b[0;31mValueError\u001b[0m: zero-size array to reduction operation minimum which has no identity"
     ]
    },
    {
     "data": {
      "image/png": "[encoded data removed]",
      "text/plain": [
       "<Figure size 640x480 with 1 Axes>"
      ]
     },
     "metadata": {},
     "output_type": "display_data"
    }
   ],
   "source": [
    "final_hcris['discount_factor'] = 1 - final_hcris['tot_discounts'] / final_hcris['tot_charges']\n",
    "final_hcris['price_num'] = (final_hcris['ip_charges'] + final_hcris['icu_charges'] + final_hcris['ancillary_charges']) * final_hcris['discount_factor'] - final_hcris['tot_mcare_payment']\n",
    "final_hcris['price_denom'] = final_hcris['tot_discharges'] - final_hcris['mcare_discharges']\n",
    "final_hcris['estimated_price'] = final_hcris['price_num'] / final_hcris['price_denom']\n",
    "\n",
    "#emove negative and extreme outlier values\n",
    "# Calculate mean and standard deviation\n",
    "mean_price = final_hcris['estimated_price'].mean()\n",
    "std_price = final_hcris['estimated_price'].std()\n",
    "\n",
    "# Define lower and upper bounds for outlier removal (3 standard deviations from mean)\n",
    "lower_bound = mean_price - (3 * std_price)\n",
    "upper_bound = mean_price + (3 * std_price)\n",
    "\n",
    "# Remove negative values\n",
    "final_hcris = final_hcris[final_hcris['estimated_price'] > 0]\n",
    "\n",
    "# Remove outliers\n",
    "final_hcris = final_hcris[(final_hcris['estimated_price'] >= lower_bound) & (final_hcris['estimated_price'] <= upper_bound)]\n",
    "years = sorted(final_hcris['year'].dropna().unique())\n",
    "estimated_price_df = [final_hcris[final_hcris['year'] == y]['estimated_price'] for y in years]\n",
    "ep_years = sorted(final_hcris['year'].dropna().unique())\n",
    "\n",
    "# Plot\n",
    "plt.figure()\n",
    "plt.violinplot(estimated_price_df, showmedians=True)\n",
    "plt.xticks(range(1, len(ep_years) + 1), ep_years, rotation=45)\n",
    "plt.xlabel('Year')\n",
    "plt.ylabel('Estimated Price ($)')\n",
    "plt.title('Estimated Price Distribution by Year')\n",
    "plt.yscale('log')  # Log scale for better visualization\n",
    "plt.show()"
   ]
  },
  {
   "cell_type": "markdown",
   "metadata": {},
   "source": [
    "5. Calculate the average price among penalized versus non-penalized hospitals."
   ]
  },
  {
   "cell_type": "code",
   "execution_count": null,
   "metadata": {},
   "outputs": [
    {
     "ename": "SyntaxError",
     "evalue": "invalid syntax (133218044.py, line 5)",
     "output_type": "error",
     "traceback": [
      "\u001b[0;36m  Cell \u001b[0;32mIn[7], line 5\u001b[0;36m\u001b[0m\n\u001b[0;31m    hcris_2012 = final_hcris[(finally['year'] == 2012) & (hcris_data['beds'] > 30)].copy()\u001b[0m\n\u001b[0m                              ^\u001b[0m\n\u001b[0;31mSyntaxError\u001b[0m\u001b[0;31m:\u001b[0m invalid syntax\n"
     ]
    }
   ],
   "source": [
    "# Ensure fyear is integer\n",
    "final_hcris['fyear'] = pd.to_numeric(final_hcris['year'], errors='coerce')\n",
    "\n",
    "# Filter data for 2012\n",
    "hcris_2012 = final_hcris[(finally['year'] == 2012) & (hcris_data['beds'] > 30)].copy()\n",
    "\n",
    "# Recalculate price after filtering\n",
    "hcris_2012['discount_factor'] = 1 - (hcris_2012['tot_discounts'] / hcris_2012['tot_charges'])\n",
    "hcris_2012['price_num'] = (hcris_2012['ip_charges'] + hcris_2012['icu_charges'] + hcris_2012['ancillary_charges']) * hcris_2012['discount_factor'] - hcris_2012['tot_mcare_payment']\n",
    "hcris_2012['price_denom'] = hcris_2012['tot_discharges'] - hcris_2012['mcare_discharges']\n",
    "hcris_2012['price'] = hcris_2012['price_num'] / hcris_2012['price_denom']\n",
    "\n",
    "# Ensure denominator is valid (avoid division by zero or negative values)\n",
    "hcris_2012 = hcris_2012[hcris_2012['price_denom'] > 0]\n",
    "\n",
    "# Compute price only for valid rows\n",
    "hcris_2012['price'] = hcris_2012['price_num'] / hcris_2012['price_denom']\n",
    "\n",
    "# Drop remaining invalid rows\n",
    "hcris_2012 = hcris_2012.replace([np.inf, -np.inf], np.nan).dropna(subset=['price'])\n",
    "\n",
    "# Take absolute value of HRRP\n",
    "hcris_2012['hrrp_payment'] = hcris_2012['hrrp_payment'].abs()\n",
    "\n",
    "# Ensure penalty calculation works\n",
    "hcris_2012['hvbp_payment'] = hcris_2012['hvbp_payment'].fillna(0)\n",
    "hcris_2012['hrrp_payment'] = hcris_2012['hrrp_payment'].fillna(0).abs()\n",
    "\n",
    "# Define Penalty Variable (penalized = True if sum of payments is negative)\n",
    "hcris_2012['penalty'] = (hcris_2012['hvbp_payment'] - hcris_2012['hrrp_payment']) < 0\n",
    "\n",
    "# Compute Mean Price by Penalty\n",
    "mean_price_penalized = round(hcris_2012[hcris_2012['penalty']]['price'].mean(), 2)\n",
    "mean_price_non_penalized = round(hcris_2012[~hcris_2012['penalty']]['price'].mean(), 2)\n",
    "\n",
    "print(f\"Mean Price - Penalized Hospitals: {mean_price_penalized}\")\n",
    "print(f\"Mean Price - Non-Penalized Hospitals: {mean_price_non_penalized}\")"
   ]
  },
  {
   "cell_type": "markdown",
   "metadata": {},
   "source": [
    "6. Split hospitals into quartiles based on bed size. To do this, create 4 new indicator variables, where each variable is set to 1 if the hospital’s bed size falls into the relevant quartile. Provide a table of the average price among treated/control groups for each quartile."
   ]
  },
  {
   "cell_type": "markdown",
   "metadata": {},
   "source": [
    "7. Find the average treatment effect using each of the following estimators, and present your results in a single table:\n",
    "\n",
    "Nearest neighbor matching (1-to-1) with inverse variance distance based on quartiles of bed size\n",
    "Nearest neighbor matching (1-to-1) with Mahalanobis distance based on quartiles of bed size\n",
    "Inverse propensity weighting, where the propensity scores are based on quartiles of bed size\n",
    "Simple linear regression, adjusting for quartiles of bed size using dummy variables and appropriate interactions as discussed in class"
   ]
  },
  {
   "cell_type": "markdown",
   "metadata": {},
   "source": [
    "8. With these different treatment effect estimators, are the results similar, identical, very different?\n",
    "\n"
   ]
  },
  {
   "cell_type": "markdown",
   "metadata": {},
   "source": [
    "9. Do you think you’ve estimated a causal effect of the penalty? Why or why not? (just a couple of sentences)"
   ]
  },
  {
   "cell_type": "markdown",
   "metadata": {},
   "source": [
    "10. Briefly describe your experience working with these data (just a few sentences). Tell me one thing you learned and one thing that really aggravated or surprised you."
   ]
  },
  {
   "cell_type": "code",
   "execution_count": null,
   "metadata": {},
   "outputs": [
    {
     "name": "stdout",
     "output_type": "stream",
     "text": [
      "126159.69s - pydevd: Sending message related to process being replaced timed-out after 5 seconds\n",
      "[NbConvertApp] Converting notebook /Users/sushmitarajan/econ470spring2025/Homework2/analysis.ipynb to pdf\n",
      "[NbConvertApp] ERROR | Error while converting '/Users/sushmitarajan/econ470spring2025/Homework2/analysis.ipynb'\n",
      "Traceback (most recent call last):\n",
      "  File \"/Library/Frameworks/Python.framework/Versions/3.11/lib/python3.11/site-packages/nbconvert/nbconvertapp.py\", line 483, in export_single_notebook\n",
      "    output, resources = self.exporter.from_filename(\n",
      "                        ^^^^^^^^^^^^^^^^^^^^^^^^^^^^\n",
      "  File \"/Library/Frameworks/Python.framework/Versions/3.11/lib/python3.11/site-packages/nbconvert/exporters/templateexporter.py\", line 383, in from_filename\n",
      "    return super().from_filename(filename, resources, **kw)  # type:ignore\n",
      "           ^^^^^^^^^^^^^^^^^^^^^^^^^^^^^^^^^^^^^^^^^^^^^^^^\n",
      "  File \"/Library/Frameworks/Python.framework/Versions/3.11/lib/python3.11/site-packages/nbconvert/exporters/exporter.py\", line 198, in from_filename\n",
      "    return self.from_file(f, resources=resources, **kw)\n",
      "           ^^^^^^^^^^^^^^^^^^^^^^^^^^^^^^^^^^^^^^^^^^^^\n",
      "  File \"/Library/Frameworks/Python.framework/Versions/3.11/lib/python3.11/site-packages/nbconvert/exporters/templateexporter.py\", line 389, in from_file\n",
      "    return super().from_file(file_stream, resources, **kw)  # type:ignore\n",
      "           ^^^^^^^^^^^^^^^^^^^^^^^^^^^^^^^^^^^^^^^^^^^^^^^\n",
      "  File \"/Library/Frameworks/Python.framework/Versions/3.11/lib/python3.11/site-packages/nbconvert/exporters/exporter.py\", line 217, in from_file\n",
      "    return self.from_notebook_node(\n",
      "           ^^^^^^^^^^^^^^^^^^^^^^^^\n",
      "  File \"/Library/Frameworks/Python.framework/Versions/3.11/lib/python3.11/site-packages/nbconvert/exporters/pdf.py\", line 181, in from_notebook_node\n",
      "    latex, resources = super().from_notebook_node(nb, resources=resources, **kw)\n",
      "                       ^^^^^^^^^^^^^^^^^^^^^^^^^^^^^^^^^^^^^^^^^^^^^^^^^^^^^^^^^\n",
      "  File \"/Library/Frameworks/Python.framework/Versions/3.11/lib/python3.11/site-packages/nbconvert/exporters/latex.py\", line 76, in from_notebook_node\n",
      "    return super().from_notebook_node(nb, resources, **kw)\n",
      "           ^^^^^^^^^^^^^^^^^^^^^^^^^^^^^^^^^^^^^^^^^^^^^^^\n",
      "  File \"/Library/Frameworks/Python.framework/Versions/3.11/lib/python3.11/site-packages/nbconvert/exporters/templateexporter.py\", line 421, in from_notebook_node\n",
      "    output = self.template.render(nb=nb_copy, resources=resources)\n",
      "             ^^^^^^^^^^^^^^^^^^^^^^^^^^^^^^^^^^^^^^^^^^^^^^^^^^^^^\n",
      "  File \"/Library/Frameworks/Python.framework/Versions/3.11/lib/python3.11/site-packages/jinja2/environment.py\", line 1301, in render\n",
      "    self.environment.handle_exception()\n",
      "  File \"/Library/Frameworks/Python.framework/Versions/3.11/lib/python3.11/site-packages/jinja2/environment.py\", line 936, in handle_exception\n",
      "    raise rewrite_traceback_stack(source=source)\n",
      "  File \"/Library/Frameworks/Python.framework/Versions/3.11/share/jupyter/nbconvert/templates/latex/index.tex.j2\", line 8, in top-level template code\n",
      "    ((* extends cell_style *))\n",
      "    ^^^^^^^^^^^^^^^^^^^^^^^^^\n",
      "  File \"/Library/Frameworks/Python.framework/Versions/3.11/share/jupyter/nbconvert/templates/latex/style_jupyter.tex.j2\", line 176, in top-level template code\n",
      "    \\prompt{(((prompt)))}{(((prompt_color)))}{(((execution_count)))}{(((extra_space)))}\n",
      "    ^^^^^^^^^^^^^^^^^^^^^^^^^\n",
      "  File \"/Library/Frameworks/Python.framework/Versions/3.11/share/jupyter/nbconvert/templates/latex/base.tex.j2\", line 7, in top-level template code\n",
      "    ((*- extends 'document_contents.tex.j2' -*))\n",
      "    ^^^^^^^^^^^^^^^^^^^^^^^^^\n",
      "  File \"/Library/Frameworks/Python.framework/Versions/3.11/share/jupyter/nbconvert/templates/latex/document_contents.tex.j2\", line 51, in top-level template code\n",
      "    ((*- block figure scoped -*))\n",
      "    ^^^^^^^^^^^^^^^^^^^^^^^^^\n",
      "  File \"/Library/Frameworks/Python.framework/Versions/3.11/share/jupyter/nbconvert/templates/latex/display_priority.j2\", line 5, in top-level template code\n",
      "    ((*- extends 'null.j2' -*))\n",
      "    ^^^^^^^^^^^^^^^^^^^^^^^^^\n",
      "  File \"/Library/Frameworks/Python.framework/Versions/3.11/share/jupyter/nbconvert/templates/latex/null.j2\", line 30, in top-level template code\n",
      "    ((*- block body -*))\n",
      "  File \"/Library/Frameworks/Python.framework/Versions/3.11/share/jupyter/nbconvert/templates/latex/base.tex.j2\", line 215, in block 'body'\n",
      "    ((( super() )))\n",
      "  File \"/Library/Frameworks/Python.framework/Versions/3.11/share/jupyter/nbconvert/templates/latex/null.j2\", line 32, in block 'body'\n",
      "    ((*- block any_cell scoped -*))\n",
      "    ^^^^^^^^^^^^^^^^^^^^^^^^^\n",
      "  File \"/Library/Frameworks/Python.framework/Versions/3.11/share/jupyter/nbconvert/templates/latex/null.j2\", line 85, in block 'any_cell'\n",
      "    ((*- block markdowncell scoped-*)) ((*- endblock markdowncell -*))\n",
      "    ^^^^^^^^^^^^^^^^^^^^^^^^^\n",
      "  File \"/Library/Frameworks/Python.framework/Versions/3.11/share/jupyter/nbconvert/templates/latex/document_contents.tex.j2\", line 68, in block 'markdowncell'\n",
      "    ((( cell.source | citation2latex | strip_files_prefix | convert_pandoc('markdown+tex_math_double_backslash', 'json',extra_args=[]) | resolve_references | convert_pandoc('json','latex'))))\n",
      "    ^^^^^^^^^^^^^^^^^^^^^^^^^\n",
      "  File \"/Library/Frameworks/Python.framework/Versions/3.11/lib/python3.11/site-packages/nbconvert/filters/pandoc.py\", line 25, in convert_pandoc\n",
      "    return pandoc(source, from_format, to_format, extra_args=extra_args)\n",
      "           ^^^^^^^^^^^^^^^^^^^^^^^^^^^^^^^^^^^^^^^^^^^^^^^^^^^^^^^^^^^^^\n",
      "  File \"/Library/Frameworks/Python.framework/Versions/3.11/lib/python3.11/site-packages/nbconvert/utils/pandoc.py\", line 51, in pandoc\n",
      "    check_pandoc_version()\n",
      "  File \"/Library/Frameworks/Python.framework/Versions/3.11/lib/python3.11/site-packages/nbconvert/utils/pandoc.py\", line 99, in check_pandoc_version\n",
      "    v = get_pandoc_version()\n",
      "        ^^^^^^^^^^^^^^^^^^^^\n",
      "  File \"/Library/Frameworks/Python.framework/Versions/3.11/lib/python3.11/site-packages/nbconvert/utils/pandoc.py\", line 76, in get_pandoc_version\n",
      "    raise PandocMissing()\n",
      "nbconvert.utils.pandoc.PandocMissing: Pandoc wasn't found.\n",
      "Please check that pandoc is installed:\n",
      "https://pandoc.org/installing.html\n"
     ]
    }
   ],
   "source": [
    "\n",
    "!jupyter nbconvert --to pdf--output homework2.pdf \"/Users/sushmitarajan/econ470spring2025/Homework2/analysis.ipynb\""
   ]
  }
 ],
 "metadata": {
  "kernelspec": {
   "display_name": "Python 3",
   "language": "python",
   "name": "python3"
  },
  "language_info": {
   "codemirror_mode": {
    "name": "ipython",
    "version": 3
   },
   "file_extension": ".py",
   "mimetype": "text/x-python",
   "name": "python",
   "nbconvert_exporter": "python",
   "pygments_lexer": "ipython3",
   "version": "3.11.1"
  }
 },
 "nbformat": 4,
 "nbformat_minor": 2
}
