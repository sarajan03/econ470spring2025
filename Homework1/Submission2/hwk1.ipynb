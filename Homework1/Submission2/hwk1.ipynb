{
 "cells": [
  {
   "cell_type": "markdown",
   "metadata": {
    "vscode": {
     "languageId": "markdown"
    }
   },
   "source": [
    "Research Methods, Spring 2025\n",
    "\n",
    "Author: Sushmita Rajan\n"
   ]
  },
  {
   "cell_type": "code",
   "execution_count": 1,
   "metadata": {},
   "outputs": [],
   "source": [
    "# Importing the libraries\n",
    "import pandas as pd\n",
    "from IPython.display import Markdown, display\n",
    "import warnings\n",
    "warnings.simplefilter('ignore')\n",
    "\n",
    "# Read output datasets\n",
    "full_ma_data = pd.read_csv('/Users/sushmitarajan/econ470spring2025/Homework1/submission2/data/output/full_ma_data.csv')\n",
    "contract_service_area = pd.read_csv('/Users/sushmitarajan/econ470spring2025/Homework1/submission2/data/output/contract_service_area.csv')"
   ]
  },
  {
   "cell_type": "markdown",
   "metadata": {},
   "source": [
    "\\newpage\n",
    "\n",
    "# 1. Provide a table of the count of plans under each plan type."
   ]
  },
  {
   "cell_type": "code",
   "execution_count": 2,
   "metadata": {},
   "outputs": [
    {
     "data": {
      "text/markdown": [
       "| Plan Type                               |   2015 |\n",
       "|:----------------------------------------|-------:|\n",
       "| Medicare Prescription Drug Plan         | 991457 |\n",
       "| Local PPO                               | 704993 |\n",
       "| HMO/HMOPOS                              | 479275 |\n",
       "| Employer/Union Only Direct Contract PDP |  25630 |\n",
       "| Regional PPO                            |  17578 |\n",
       "| PFFS                                    |  13658 |\n",
       "| 1876 Cost                               |   7157 |\n",
       "| MSA                                     |   6518 |\n",
       "| Medicare-Medicaid Plan HMO/HMOPOS       |   4130 |\n",
       "| National PACE                           |   1216 |"
      ],
      "text/plain": [
       "<IPython.core.display.Markdown object>"
      ]
     },
     "metadata": {},
     "output_type": "display_data"
    }
   ],
   "source": [
    "# Pivot table to get the number of plans per type and year\n",
    "plans_per_type = full_ma_data.pivot_table(index='plan_type', columns='year', values='planid', aggfunc='count')\n",
    "# Change the name of the index\n",
    "plans_per_type.index.name = 'Plan Type'\n",
    "# Sort values\n",
    "plans_per_type = plans_per_type.sort_values(by=2015, ascending=False)\n",
    "# Display the table\n",
    "display(Markdown(plans_per_type.to_markdown()))"
   ]
  },
  {
   "cell_type": "markdown",
   "metadata": {},
   "source": [
    "\\newpage\n",
    "\n",
    "# 2. Remove all special needs plans (SNP), employer group plans (eghp), and all \"800-series\" plans.\n",
    "\n",
    "Provide an updated table after making these exclusions."
   ]
  },
  {
   "cell_type": "code",
   "execution_count": 3,
   "metadata": {},
   "outputs": [
    {
     "data": {
      "text/markdown": [
       "| Plan Type                         |   2015 |\n",
       "|:----------------------------------|-------:|\n",
       "| Medicare Prescription Drug Plan   | 269153 |\n",
       "| HMO/HMOPOS                        |  36588 |\n",
       "| Local PPO                         |  16728 |\n",
       "| Regional PPO                      |   8531 |\n",
       "| 1876 Cost                         |   6329 |\n",
       "| PFFS                              |   4232 |\n",
       "| Medicare-Medicaid Plan HMO/HMOPOS |   4130 |\n",
       "| National PACE                     |   1216 |\n",
       "| MSA                               |    232 |"
      ],
      "text/plain": [
       "<IPython.core.display.Markdown object>"
      ]
     },
     "metadata": {},
     "output_type": "display_data"
    }
   ],
   "source": [
    "# Exluce SNP and EGHP plans, and plans between 800 and 899\n",
    "final_ma_data = full_ma_data[(full_ma_data['snp'] == \"No\") & (full_ma_data['eghp'] == \"No\") & ((full_ma_data['planid'] < 800) | (full_ma_data['planid'] >= 900))]\n",
    "plans_per_type = final_ma_data.pivot_table(index='plan_type', columns='year', values='planid', aggfunc='count')\n",
    "# Change the name of the index\n",
    "plans_per_type.index.name = 'Plan Type'\n",
    "# Sort values\n",
    "plans_per_type = plans_per_type.sort_values(by=2015, ascending=False)\n",
    "# Display the table\n",
    "display(Markdown(plans_per_type.to_markdown()))"
   ]
  },
  {
   "cell_type": "markdown",
   "metadata": {},
   "source": [
    "\\newpage\n",
    "\n",
    "# 3. Provide a table of the average enrollments for each plan type in 2015."
   ]
  },
  {
   "cell_type": "code",
   "execution_count": 4,
   "metadata": {},
   "outputs": [
    {
     "data": {
      "text/markdown": [
       "| Plan Type                         |   Count |   Avg Enrollment |\n",
       "|:----------------------------------|--------:|-----------------:|\n",
       "| Medicare Prescription Drug Plan   |   60236 |              312 |\n",
       "| HMO/HMOPOS                        |    9115 |              849 |\n",
       "| Local PPO                         |    6126 |              311 |\n",
       "| Regional PPO                      |    4853 |              202 |\n",
       "| PFFS                              |    2052 |              125 |\n",
       "| 1876 Cost                         |    2019 |              228 |\n",
       "| Medicare-Medicaid Plan HMO/HMOPOS |     522 |              624 |\n",
       "| National PACE                     |     213 |              140 |\n",
       "| MSA                               |     111 |              108 |"
      ],
      "text/plain": [
       "<IPython.core.display.Markdown object>"
      ]
     },
     "metadata": {},
     "output_type": "display_data"
    }
   ],
   "source": [
    "# Pivot table to get the average enrollment per plan type and year\n",
    "enrollment_per_type = final_ma_data.groupby('plan_type')['avg_enrollment'].agg(['count', 'mean'])\n",
    "# Change the name of the index and columns\n",
    "enrollment_per_type.index.name = 'Plan Type'\n",
    "enrollment_per_type.columns = ['Count', 'Avg Enrollment']\n",
    "# Sort values and format\n",
    "enrollment_per_type = enrollment_per_type.round(0).astype('int').sort_values(by='Count', ascending=False)\n",
    "# Display the table\n",
    "display(Markdown(enrollment_per_type.to_markdown()))"
   ]
  },
  {
   "cell_type": "code",
   "execution_count": null,
   "metadata": {},
   "outputs": [
    {
     "name": "stdout",
     "output_type": "stream",
     "text": [
      "[NbConvertApp] Converting notebook /Users/sushmitarajan/econ470spring2025/Homework1/Submission2/hwk1.ipynb to pdf\n",
      "[NbConvertApp] ERROR | Error while converting '/Users/sushmitarajan/econ470spring2025/Homework1/Submission2/hwk1.ipynb'\n",
      "Traceback (most recent call last):\n",
      "  File \"/Library/Frameworks/Python.framework/Versions/3.11/lib/python3.11/site-packages/nbconvert/nbconvertapp.py\", line 483, in export_single_notebook\n",
      "    output, resources = self.exporter.from_filename(\n",
      "                        ^^^^^^^^^^^^^^^^^^^^^^^^^^^^\n",
      "  File \"/Library/Frameworks/Python.framework/Versions/3.11/lib/python3.11/site-packages/nbconvert/exporters/templateexporter.py\", line 383, in from_filename\n",
      "    return super().from_filename(filename, resources, **kw)  # type:ignore\n",
      "           ^^^^^^^^^^^^^^^^^^^^^^^^^^^^^^^^^^^^^^^^^^^^^^^^\n",
      "  File \"/Library/Frameworks/Python.framework/Versions/3.11/lib/python3.11/site-packages/nbconvert/exporters/exporter.py\", line 198, in from_filename\n",
      "    return self.from_file(f, resources=resources, **kw)\n",
      "           ^^^^^^^^^^^^^^^^^^^^^^^^^^^^^^^^^^^^^^^^^^^^\n",
      "  File \"/Library/Frameworks/Python.framework/Versions/3.11/lib/python3.11/site-packages/nbconvert/exporters/templateexporter.py\", line 389, in from_file\n",
      "    return super().from_file(file_stream, resources, **kw)  # type:ignore\n",
      "           ^^^^^^^^^^^^^^^^^^^^^^^^^^^^^^^^^^^^^^^^^^^^^^^\n",
      "  File \"/Library/Frameworks/Python.framework/Versions/3.11/lib/python3.11/site-packages/nbconvert/exporters/exporter.py\", line 217, in from_file\n",
      "    return self.from_notebook_node(\n",
      "           ^^^^^^^^^^^^^^^^^^^^^^^^\n",
      "  File \"/Library/Frameworks/Python.framework/Versions/3.11/lib/python3.11/site-packages/nbconvert/exporters/pdf.py\", line 181, in from_notebook_node\n",
      "    latex, resources = super().from_notebook_node(nb, resources=resources, **kw)\n",
      "                       ^^^^^^^^^^^^^^^^^^^^^^^^^^^^^^^^^^^^^^^^^^^^^^^^^^^^^^^^^\n",
      "  File \"/Library/Frameworks/Python.framework/Versions/3.11/lib/python3.11/site-packages/nbconvert/exporters/latex.py\", line 76, in from_notebook_node\n",
      "    return super().from_notebook_node(nb, resources, **kw)\n",
      "           ^^^^^^^^^^^^^^^^^^^^^^^^^^^^^^^^^^^^^^^^^^^^^^^\n",
      "  File \"/Library/Frameworks/Python.framework/Versions/3.11/lib/python3.11/site-packages/nbconvert/exporters/templateexporter.py\", line 421, in from_notebook_node\n",
      "    output = self.template.render(nb=nb_copy, resources=resources)\n",
      "             ^^^^^^^^^^^^^^^^^^^^^^^^^^^^^^^^^^^^^^^^^^^^^^^^^^^^^\n",
      "  File \"/Library/Frameworks/Python.framework/Versions/3.11/lib/python3.11/site-packages/jinja2/environment.py\", line 1301, in render\n",
      "    self.environment.handle_exception()\n",
      "  File \"/Library/Frameworks/Python.framework/Versions/3.11/lib/python3.11/site-packages/jinja2/environment.py\", line 936, in handle_exception\n",
      "    raise rewrite_traceback_stack(source=source)\n",
      "  File \"/Library/Frameworks/Python.framework/Versions/3.11/share/jupyter/nbconvert/templates/latex/index.tex.j2\", line 8, in top-level template code\n",
      "    ((* extends cell_style *))\n",
      "    ^^^^^^^^^^^^^^^^^^^^^^^^^\n",
      "  File \"/Library/Frameworks/Python.framework/Versions/3.11/share/jupyter/nbconvert/templates/latex/style_jupyter.tex.j2\", line 176, in top-level template code\n",
      "    \\prompt{(((prompt)))}{(((prompt_color)))}{(((execution_count)))}{(((extra_space)))}\n",
      "    ^^^^^^^^^^^^^^^^^^^^^^^^^\n",
      "  File \"/Library/Frameworks/Python.framework/Versions/3.11/share/jupyter/nbconvert/templates/latex/base.tex.j2\", line 7, in top-level template code\n",
      "    ((*- extends 'document_contents.tex.j2' -*))\n",
      "    ^^^^^^^^^^^^^^^^^^^^^^^^^\n",
      "  File \"/Library/Frameworks/Python.framework/Versions/3.11/share/jupyter/nbconvert/templates/latex/document_contents.tex.j2\", line 51, in top-level template code\n",
      "    ((*- block figure scoped -*))\n",
      "    ^^^^^^^^^^^^^^^^^^^^^^^^^\n",
      "  File \"/Library/Frameworks/Python.framework/Versions/3.11/share/jupyter/nbconvert/templates/latex/display_priority.j2\", line 5, in top-level template code\n",
      "    ((*- extends 'null.j2' -*))\n",
      "    ^^^^^^^^^^^^^^^^^^^^^^^^^\n",
      "  File \"/Library/Frameworks/Python.framework/Versions/3.11/share/jupyter/nbconvert/templates/latex/null.j2\", line 30, in top-level template code\n",
      "    ((*- block body -*))\n",
      "  File \"/Library/Frameworks/Python.framework/Versions/3.11/share/jupyter/nbconvert/templates/latex/base.tex.j2\", line 215, in block 'body'\n",
      "    ((( super() )))\n",
      "  File \"/Library/Frameworks/Python.framework/Versions/3.11/share/jupyter/nbconvert/templates/latex/null.j2\", line 32, in block 'body'\n",
      "    ((*- block any_cell scoped -*))\n",
      "    ^^^^^^^^^^^^^^^^^^^^^^^^^\n",
      "  File \"/Library/Frameworks/Python.framework/Versions/3.11/share/jupyter/nbconvert/templates/latex/null.j2\", line 85, in block 'any_cell'\n",
      "    ((*- block markdowncell scoped-*)) ((*- endblock markdowncell -*))\n",
      "    ^^^^^^^^^^^^^^^^^^^^^^^^^\n",
      "  File \"/Library/Frameworks/Python.framework/Versions/3.11/share/jupyter/nbconvert/templates/latex/document_contents.tex.j2\", line 68, in block 'markdowncell'\n",
      "    ((( cell.source | citation2latex | strip_files_prefix | convert_pandoc('markdown+tex_math_double_backslash', 'json',extra_args=[]) | resolve_references | convert_pandoc('json','latex'))))\n",
      "    ^^^^^^^^^^^^^^^^^^^^^^^^^\n",
      "  File \"/Library/Frameworks/Python.framework/Versions/3.11/lib/python3.11/site-packages/nbconvert/filters/pandoc.py\", line 25, in convert_pandoc\n",
      "    return pandoc(source, from_format, to_format, extra_args=extra_args)\n",
      "           ^^^^^^^^^^^^^^^^^^^^^^^^^^^^^^^^^^^^^^^^^^^^^^^^^^^^^^^^^^^^^\n",
      "  File \"/Library/Frameworks/Python.framework/Versions/3.11/lib/python3.11/site-packages/nbconvert/utils/pandoc.py\", line 51, in pandoc\n",
      "    check_pandoc_version()\n",
      "  File \"/Library/Frameworks/Python.framework/Versions/3.11/lib/python3.11/site-packages/nbconvert/utils/pandoc.py\", line 99, in check_pandoc_version\n",
      "    v = get_pandoc_version()\n",
      "        ^^^^^^^^^^^^^^^^^^^^\n",
      "  File \"/Library/Frameworks/Python.framework/Versions/3.11/lib/python3.11/site-packages/nbconvert/utils/pandoc.py\", line 76, in get_pandoc_version\n",
      "    raise PandocMissing()\n",
      "nbconvert.utils.pandoc.PandocMissing: Pandoc wasn't found.\n",
      "Please check that pandoc is installed:\n",
      "https://pandoc.org/installing.html\n"
     ]
    }
   ],
   "source": [
    "!jupyter nbconvert --to pdf \"/Users/sushmitarajan/econ470spring2025/Homework1/Submission2/hwk1.ipynb\""
   ]
  },
  {
   "cell_type": "code",
   "execution_count": null,
   "metadata": {},
   "outputs": [],
   "source": []
  }
 ],
 "metadata": {
  "kernelspec": {
   "display_name": "Python 3",
   "language": "python",
   "name": "python3"
  },
  "language_info": {
   "codemirror_mode": {
    "name": "ipython",
    "version": 3
   },
   "file_extension": ".py",
   "mimetype": "text/x-python",
   "name": "python",
   "nbconvert_exporter": "python",
   "pygments_lexer": "ipython3",
   "version": "3.11.1"
  }
 },
 "nbformat": 4,
 "nbformat_minor": 2
}
