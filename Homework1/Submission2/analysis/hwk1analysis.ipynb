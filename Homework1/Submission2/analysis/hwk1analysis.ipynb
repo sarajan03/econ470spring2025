{
 "cells": [
  {
   "cell_type": "code",
   "execution_count": 1,
   "metadata": {},
   "outputs": [
    {
     "name": "stderr",
     "output_type": "stream",
     "text": [
      "/var/folders/3_/1g3y3f694h9c708zyc8p2lph0000gn/T/ipykernel_49072/3126366279.py:8: DtypeWarning: Columns (10) have mixed types. Specify dtype option on import or set low_memory=False.\n",
      "  contract_service_area = pd.read_csv('/Users/sushmitarajan/econ470spring2025/Homework1/submission2/data/output/contract_service_area.csv')\n"
     ]
    }
   ],
   "source": [
    "import pandas as pd\n",
    "\n",
    "# Read the output datasets into pandas DataFrames\n",
    "# 'full_ma_data' contains Medicare Advantage (MA) plan data\n",
    "full_ma_data = pd.read_csv('/Users/sushmitarajan/econ470spring2025/Homework1/submission2/data/output/full_ma_data.csv')\n",
    "\n",
    "# 'contract_service_area' contains the contract service area data\n",
    "contract_service_area = pd.read_csv('/Users/sushmitarajan/econ470spring2025/Homework1/submission2/data/output/contract_service_area.csv')\n",
    "\n",
    "# Pivot table to get the number of plans per 'plan_type' and 'year'\n",
    "# This groups the data by 'plan_type' and 'year', and counts the number of distinct 'planid's for each combination\n",
    "plans_per_type = full_ma_data.pivot_table(\n",
    "    index='plan_type',  # Rows will represent different 'plan_type'\n",
    "    columns='year',     # Columns will represent different years\n",
    "    values='planid',    # We will count the occurrences of 'planid' for each combination of 'plan_type' and 'year'\n",
    "    aggfunc='count'     # Aggregation function is 'count' to count the number of plans\n",
    ")\n",
    "\n",
    "# Filter out the SNP and EGHP plans, as well as plans with 'planid' between 800 and 899\n",
    "# This creates a filtered DataFrame 'final_ma_data' that excludes SNP (Special Needs Plans) and EGHP (Employer/Union Health Plans),\n",
    "# and excludes plans with 'planid' in the range 800-899 (likely considered invalid or irrelevant)\n",
    "final_ma_data = full_ma_data[\n",
    "    (full_ma_data['snp'] == \"No\") &  # Exclude SNP plans (Special Needs Plans)\n",
    "    (full_ma_data['eghp'] == \"No\") & # Exclude EGHP plans (Employer/Union Health Plans)\n",
    "    ((full_ma_data['planid'] < 800) | (full_ma_data['planid'] >= 900))  # Exclude plans with 'planid' between 800 and 899\n",
    "]\n",
    "\n",
    "# Create a new pivot table 'plans_per_type2' based on the filtered 'final_ma_data'\n",
    "# This table gives the number of plans per 'plan_type' and 'year' for the filtered data\n",
    "plans_per_type2 = final_ma_data.pivot_table(\n",
    "    index='plan_type',  # Rows represent different 'plan_type'\n",
    "    columns='year',     # Columns represent different years\n",
    "    values='planid',    # We will count the occurrences of 'planid' for each combination of 'plan_type' and 'year'\n",
    "    aggfunc='count'     # Aggregation function is 'count' to count the number of plans\n",
    ")\n",
    "\n",
    "# Pivot table to calculate the average enrollment per plan type and year\n",
    "# This table groups the data by 'plan_type' and calculates both 'count' and 'mean' for 'avg_enrollment'\n",
    "enrollment_per_type = final_ma_data.pivot_table(\n",
    "    index='plan_type',              # Group data by 'plan_type'\n",
    "    values='avg_enrollment',         # We are calculating on 'avg_enrollment'\n",
    "    aggfunc={'avg_enrollment': ['count', 'mean']}  # Apply both 'count' (to count plans) and 'mean' (to calculate the average enrollment)\n",
    ")\n",
    "\n",
    " "
   ]
  }
 ],
 "metadata": {
  "kernelspec": {
   "display_name": "Python 3",
   "language": "python",
   "name": "python3"
  },
  "language_info": {
   "codemirror_mode": {
    "name": "ipython",
    "version": 3
   },
   "file_extension": ".py",
   "mimetype": "text/x-python",
   "name": "python",
   "nbconvert_exporter": "python",
   "pygments_lexer": "ipython3",
   "version": "3.11.1"
  }
 },
 "nbformat": 4,
 "nbformat_minor": 2
}
