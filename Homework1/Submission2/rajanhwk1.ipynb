{
 "cells": [
  {
   "cell_type": "code",
   "execution_count": null,
   "id": "94a24861-b7ae-443d-b703-ffd2076df8ea",
   "metadata": {
    "vscode": {
     "languageId": "quarto"
    }
   },
   "outputs": [],
   "source": [
    "# Import necessary packages\n",
    "import pandas as pd\n",
    "import numpy as np"
   ]
  },
  {
   "cell_type": "code",
   "execution_count": null,
   "id": "5afc0e31-a876-4695-a934-b7d07bc9f213",
   "metadata": {
    "vscode": {
     "languageId": "quarto"
    }
   },
   "outputs": [
    {
     "ename": "FileNotFoundError",
     "evalue": "[Errno 2] No such file or directory: '/Users/sushmitarajan/econ470spring2025/Homework1/Submission2/analysis/hwk1-analysis.ipnyb'",
     "output_type": "error",
     "traceback": [
      "\u001b[0;31m---------------------------------------------------------------------------\u001b[0m",
      "\u001b[0;31mFileNotFoundError\u001b[0m                         Traceback (most recent call last)",
      "File \u001b[1;32m/Users/sushmitarajan/econ470spring2025/Homework1/Submission2/rajanhwk1.qmd:1\u001b[0m\n\u001b[0;32m----> 1\u001b[0m \u001b[39mwith\u001b[39;00m \u001b[39mopen\u001b[39;49m(\u001b[39m\"\u001b[39;49m\u001b[39m/Users/sushmitarajan/econ470spring2025/Homework1/Submission2/analysis/hwk1-analysis.ipnyb\u001b[39;49m\u001b[39m\"\u001b[39;49m) \u001b[39mas\u001b[39;00m file:\n\u001b[1;32m      2\u001b[0m     exec(file\u001b[39m.\u001b[39mread())\n\u001b[1;32m      4\u001b[0m \u001b[39m# My answers to the homework questions are described below. The GitHub repository for this work is available \u001b[39;00m\n\u001b[1;32m      5\u001b[0m \u001b[39m#[here](https://github.com/sarajan03/econ470spring2025/tree/main/Homework1/Submission2).\u001b[39;00m\n\u001b[1;32m      6\u001b[0m \n\u001b[1;32m      7\u001b[0m \u001b[39m# My file did not want to download as a pdf so have to use a html to download as pdf\u001b[39;00m\n",
      "File \u001b[0;32m/Library/Frameworks/Python.framework/Versions/3.11/lib/python3.11/site-packages/IPython/core/interactiveshell.py:282\u001b[0m, in \u001b[0;36m_modified_open\u001b[0;34m(file, *args, **kwargs)\u001b[0m\n\u001b[1;32m    275\u001b[0m \u001b[39mif\u001b[39;00m file \u001b[39min\u001b[39;00m {\u001b[39m0\u001b[39m, \u001b[39m1\u001b[39m, \u001b[39m2\u001b[39m}:\n\u001b[1;32m    276\u001b[0m     \u001b[39mraise\u001b[39;00m \u001b[39mValueError\u001b[39;00m(\n\u001b[1;32m    277\u001b[0m         \u001b[39mf\u001b[39m\u001b[39m\"\u001b[39m\u001b[39mIPython won\u001b[39m\u001b[39m'\u001b[39m\u001b[39mt let you open fd=\u001b[39m\u001b[39m{\u001b[39;00mfile\u001b[39m}\u001b[39;00m\u001b[39m by default \u001b[39m\u001b[39m\"\u001b[39m\n\u001b[1;32m    278\u001b[0m         \u001b[39m\"\u001b[39m\u001b[39mas it is likely to crash IPython. If you know what you are doing, \u001b[39m\u001b[39m\"\u001b[39m\n\u001b[1;32m    279\u001b[0m         \u001b[39m\"\u001b[39m\u001b[39myou can use builtins\u001b[39m\u001b[39m'\u001b[39m\u001b[39m open.\u001b[39m\u001b[39m\"\u001b[39m\n\u001b[1;32m    280\u001b[0m     )\n\u001b[0;32m--> 282\u001b[0m \u001b[39mreturn\u001b[39;00m io_open(file, \u001b[39m*\u001b[39;49margs, \u001b[39m*\u001b[39;49m\u001b[39m*\u001b[39;49mkwargs)\n",
      "\u001b[0;31mFileNotFoundError\u001b[0m: [Errno 2] No such file or directory: '/Users/sushmitarajan/econ470spring2025/Homework1/Submission2/analysis/hwk1-analysis.ipnyb'"
     ]
    }
   ],
   "source": [
    "with open(\"/Users/sushmitarajan/econ470spring2025/Homework1/Submission2/analysis/hwk1-analysis.ipnyb\") as file:\n",
    "    exec(file.read())\n",
    "\n",
    "# My answers to the homework questions are described below. The GitHub repository for this work is available \n",
    "#[here](https://github.com/sarajan03/econ470spring2025/tree/main/Homework1/Submission2).\n",
    "\n",
    "# My file did not want to download as a pdf so have to use a html to download as pdf"
   ]
  },
  {
   "cell_type": "code",
   "execution_count": null,
   "id": "33c4f1d0-abc2-436c-b075-4551f3ad9766",
   "metadata": {
    "vscode": {
     "languageId": "quarto"
    }
   },
   "outputs": [
    {
     "ename": "FileNotFoundError",
     "evalue": "[Errno 2] No such file or directory: '/Users/sushmitarajan/econ470spring2025/Homework1/Submission2/analysis/hwk1.ipnyb'",
     "output_type": "error",
     "traceback": [
      "\u001b[0;31m---------------------------------------------------------------------------\u001b[0m",
      "\u001b[0;31mFileNotFoundError\u001b[0m                         Traceback (most recent call last)",
      "File \u001b[1;32m/Users/sushmitarajan/econ470spring2025/Homework1/Submission2/rajanhwk1.qmd:1\u001b[0m\n\u001b[0;32m----> 1\u001b[0m \u001b[39mwith\u001b[39;00m \u001b[39mopen\u001b[39;49m(\u001b[39m\"\u001b[39;49m\u001b[39m/Users/sushmitarajan/econ470spring2025/Homework1/Submission2/analysis/hwk1.ipnyb\u001b[39;49m\u001b[39m\"\u001b[39;49m) \u001b[39mas\u001b[39;00m file:\n\u001b[1;32m      2\u001b[0m     exec(file\u001b[39m.\u001b[39mread())\n\u001b[1;32m      4\u001b[0m \u001b[39m# My answers to the homework questions are described below. The GitHub repository for this work is available \u001b[39;00m\n\u001b[1;32m      5\u001b[0m \u001b[39m#[here](https://github.com/sarajan03/econ470spring2025/tree/main/Homework1/Submission2).\u001b[39;00m\n\u001b[1;32m      6\u001b[0m \n\u001b[1;32m      7\u001b[0m \u001b[39m# My file did not want to download as a pdf so have to use a html to download as pdf\u001b[39;00m\n",
      "File \u001b[0;32m/Library/Frameworks/Python.framework/Versions/3.11/lib/python3.11/site-packages/IPython/core/interactiveshell.py:282\u001b[0m, in \u001b[0;36m_modified_open\u001b[0;34m(file, *args, **kwargs)\u001b[0m\n\u001b[1;32m    275\u001b[0m \u001b[39mif\u001b[39;00m file \u001b[39min\u001b[39;00m {\u001b[39m0\u001b[39m, \u001b[39m1\u001b[39m, \u001b[39m2\u001b[39m}:\n\u001b[1;32m    276\u001b[0m     \u001b[39mraise\u001b[39;00m \u001b[39mValueError\u001b[39;00m(\n\u001b[1;32m    277\u001b[0m         \u001b[39mf\u001b[39m\u001b[39m\"\u001b[39m\u001b[39mIPython won\u001b[39m\u001b[39m'\u001b[39m\u001b[39mt let you open fd=\u001b[39m\u001b[39m{\u001b[39;00mfile\u001b[39m}\u001b[39;00m\u001b[39m by default \u001b[39m\u001b[39m\"\u001b[39m\n\u001b[1;32m    278\u001b[0m         \u001b[39m\"\u001b[39m\u001b[39mas it is likely to crash IPython. If you know what you are doing, \u001b[39m\u001b[39m\"\u001b[39m\n\u001b[1;32m    279\u001b[0m         \u001b[39m\"\u001b[39m\u001b[39myou can use builtins\u001b[39m\u001b[39m'\u001b[39m\u001b[39m open.\u001b[39m\u001b[39m\"\u001b[39m\n\u001b[1;32m    280\u001b[0m     )\n\u001b[0;32m--> 282\u001b[0m \u001b[39mreturn\u001b[39;00m io_open(file, \u001b[39m*\u001b[39;49margs, \u001b[39m*\u001b[39;49m\u001b[39m*\u001b[39;49mkwargs)\n",
      "\u001b[0;31mFileNotFoundError\u001b[0m: [Errno 2] No such file or directory: '/Users/sushmitarajan/econ470spring2025/Homework1/Submission2/analysis/hwk1.ipnyb'"
     ]
    }
   ],
   "source": [
    "with open(\"/Users/sushmitarajan/econ470spring2025/Homework1/Submission2/analysis/hwk1.ipnyb\") as file:\n",
    "    exec(file.read())\n",
    "\n",
    "# My answers to the homework questions are described below. The GitHub repository for this work is available \n",
    "#[here](https://github.com/sarajan03/econ470spring2025/tree/main/Homework1/Submission2).\n",
    "\n",
    "# My file did not want to download as a pdf so have to use a html to download as pdf"
   ]
  },
  {
   "cell_type": "code",
   "execution_count": null,
   "id": "64f7a784-9db2-43c9-bff3-d27103a465e2",
   "metadata": {
    "vscode": {
     "languageId": "quarto"
    }
   },
   "outputs": [
    {
     "ename": "FileNotFoundError",
     "evalue": "[Errno 2] No such file or directory: '/Users/sushmitarajan/econ470spring2025/Homework1/Submission2/analysis/hwk1anlaysis.ipnyb'",
     "output_type": "error",
     "traceback": [
      "\u001b[0;31m---------------------------------------------------------------------------\u001b[0m",
      "\u001b[0;31mFileNotFoundError\u001b[0m                         Traceback (most recent call last)",
      "File \u001b[1;32m/Users/sushmitarajan/econ470spring2025/Homework1/Submission2/rajanhwk1.qmd:1\u001b[0m\n\u001b[0;32m----> 1\u001b[0m \u001b[39mwith\u001b[39;00m \u001b[39mopen\u001b[39;49m(\u001b[39m\"\u001b[39;49m\u001b[39m/Users/sushmitarajan/econ470spring2025/Homework1/Submission2/analysis/hwk1anlaysis.ipnyb\u001b[39;49m\u001b[39m\"\u001b[39;49m) \u001b[39mas\u001b[39;00m file:\n\u001b[1;32m      2\u001b[0m     exec(file\u001b[39m.\u001b[39mread())\n\u001b[1;32m      4\u001b[0m \u001b[39m# My answers to the homework questions are described below. The GitHub repository for this work is available \u001b[39;00m\n\u001b[1;32m      5\u001b[0m \u001b[39m#[here](https://github.com/sarajan03/econ470spring2025/tree/main/Homework1/Submission2).\u001b[39;00m\n\u001b[1;32m      6\u001b[0m \n\u001b[1;32m      7\u001b[0m \u001b[39m# My file did not want to download as a pdf so have to use a html to download as pdf\u001b[39;00m\n",
      "File \u001b[0;32m/Library/Frameworks/Python.framework/Versions/3.11/lib/python3.11/site-packages/IPython/core/interactiveshell.py:282\u001b[0m, in \u001b[0;36m_modified_open\u001b[0;34m(file, *args, **kwargs)\u001b[0m\n\u001b[1;32m    275\u001b[0m \u001b[39mif\u001b[39;00m file \u001b[39min\u001b[39;00m {\u001b[39m0\u001b[39m, \u001b[39m1\u001b[39m, \u001b[39m2\u001b[39m}:\n\u001b[1;32m    276\u001b[0m     \u001b[39mraise\u001b[39;00m \u001b[39mValueError\u001b[39;00m(\n\u001b[1;32m    277\u001b[0m         \u001b[39mf\u001b[39m\u001b[39m\"\u001b[39m\u001b[39mIPython won\u001b[39m\u001b[39m'\u001b[39m\u001b[39mt let you open fd=\u001b[39m\u001b[39m{\u001b[39;00mfile\u001b[39m}\u001b[39;00m\u001b[39m by default \u001b[39m\u001b[39m\"\u001b[39m\n\u001b[1;32m    278\u001b[0m         \u001b[39m\"\u001b[39m\u001b[39mas it is likely to crash IPython. If you know what you are doing, \u001b[39m\u001b[39m\"\u001b[39m\n\u001b[1;32m    279\u001b[0m         \u001b[39m\"\u001b[39m\u001b[39myou can use builtins\u001b[39m\u001b[39m'\u001b[39m\u001b[39m open.\u001b[39m\u001b[39m\"\u001b[39m\n\u001b[1;32m    280\u001b[0m     )\n\u001b[0;32m--> 282\u001b[0m \u001b[39mreturn\u001b[39;00m io_open(file, \u001b[39m*\u001b[39;49margs, \u001b[39m*\u001b[39;49m\u001b[39m*\u001b[39;49mkwargs)\n",
      "\u001b[0;31mFileNotFoundError\u001b[0m: [Errno 2] No such file or directory: '/Users/sushmitarajan/econ470spring2025/Homework1/Submission2/analysis/hwk1anlaysis.ipnyb'"
     ]
    }
   ],
   "source": [
    "with open(\"/Users/sushmitarajan/econ470spring2025/Homework1/Submission2/analysis/hwk1anlaysis.ipnyb\") as file:\n",
    "    exec(file.read())\n",
    "\n",
    "# My answers to the homework questions are described below. The GitHub repository for this work is available \n",
    "#[here](https://github.com/sarajan03/econ470spring2025/tree/main/Homework1/Submission2).\n",
    "\n",
    "# My file did not want to download as a pdf so have to use a html to download as pdf"
   ]
  },
  {
   "cell_type": "code",
   "execution_count": null,
   "id": "35074dbf-5c99-45f6-af8e-85548819a1cc",
   "metadata": {
    "vscode": {
     "languageId": "quarto"
    }
   },
   "outputs": [
    {
     "ename": "FileNotFoundError",
     "evalue": "[Errno 2] No such file or directory: '/Users/sushmitarajan/econ470spring2025/Homework1/Submission2/analysis/hwk1anlaysis.ipynb'",
     "output_type": "error",
     "traceback": [
      "\u001b[0;31m---------------------------------------------------------------------------\u001b[0m",
      "\u001b[0;31mFileNotFoundError\u001b[0m                         Traceback (most recent call last)",
      "File \u001b[1;32m/Users/sushmitarajan/econ470spring2025/Homework1/Submission2/rajanhwk1.qmd:1\u001b[0m\n\u001b[0;32m----> 1\u001b[0m \u001b[39mwith\u001b[39;00m \u001b[39mopen\u001b[39;49m(\u001b[39m\"\u001b[39;49m\u001b[39m/Users/sushmitarajan/econ470spring2025/Homework1/Submission2/analysis/hwk1anlaysis.ipynb\u001b[39;49m\u001b[39m\"\u001b[39;49m) \u001b[39mas\u001b[39;00m file:\n\u001b[1;32m      2\u001b[0m     exec(file\u001b[39m.\u001b[39mread())\n\u001b[1;32m      4\u001b[0m \u001b[39m# My answers to the homework questions are described below. The GitHub repository for this work is available \u001b[39;00m\n\u001b[1;32m      5\u001b[0m \u001b[39m#[here](https://github.com/sarajan03/econ470spring2025/tree/main/Homework1/Submission2).\u001b[39;00m\n\u001b[1;32m      6\u001b[0m \n\u001b[1;32m      7\u001b[0m \u001b[39m# My file did not want to download as a pdf so have to use a html to download as pdf\u001b[39;00m\n",
      "File \u001b[0;32m/Library/Frameworks/Python.framework/Versions/3.11/lib/python3.11/site-packages/IPython/core/interactiveshell.py:282\u001b[0m, in \u001b[0;36m_modified_open\u001b[0;34m(file, *args, **kwargs)\u001b[0m\n\u001b[1;32m    275\u001b[0m \u001b[39mif\u001b[39;00m file \u001b[39min\u001b[39;00m {\u001b[39m0\u001b[39m, \u001b[39m1\u001b[39m, \u001b[39m2\u001b[39m}:\n\u001b[1;32m    276\u001b[0m     \u001b[39mraise\u001b[39;00m \u001b[39mValueError\u001b[39;00m(\n\u001b[1;32m    277\u001b[0m         \u001b[39mf\u001b[39m\u001b[39m\"\u001b[39m\u001b[39mIPython won\u001b[39m\u001b[39m'\u001b[39m\u001b[39mt let you open fd=\u001b[39m\u001b[39m{\u001b[39;00mfile\u001b[39m}\u001b[39;00m\u001b[39m by default \u001b[39m\u001b[39m\"\u001b[39m\n\u001b[1;32m    278\u001b[0m         \u001b[39m\"\u001b[39m\u001b[39mas it is likely to crash IPython. If you know what you are doing, \u001b[39m\u001b[39m\"\u001b[39m\n\u001b[1;32m    279\u001b[0m         \u001b[39m\"\u001b[39m\u001b[39myou can use builtins\u001b[39m\u001b[39m'\u001b[39m\u001b[39m open.\u001b[39m\u001b[39m\"\u001b[39m\n\u001b[1;32m    280\u001b[0m     )\n\u001b[0;32m--> 282\u001b[0m \u001b[39mreturn\u001b[39;00m io_open(file, \u001b[39m*\u001b[39;49margs, \u001b[39m*\u001b[39;49m\u001b[39m*\u001b[39;49mkwargs)\n",
      "\u001b[0;31mFileNotFoundError\u001b[0m: [Errno 2] No such file or directory: '/Users/sushmitarajan/econ470spring2025/Homework1/Submission2/analysis/hwk1anlaysis.ipynb'"
     ]
    }
   ],
   "source": [
    "with open(\"/Users/sushmitarajan/econ470spring2025/Homework1/Submission2/analysis/hwk1anlaysis.ipynb\") as file:\n",
    "    exec(file.read())\n",
    "\n",
    "# My answers to the homework questions are described below. The GitHub repository for this work is available \n",
    "#[here](https://github.com/sarajan03/econ470spring2025/tree/main/Homework1/Submission2).\n",
    "\n",
    "# My file did not want to download as a pdf so have to use a html to download as pdf"
   ]
  },
  {
   "cell_type": "code",
   "execution_count": null,
   "id": "94cb00ca-bc02-4961-a5a8-7aca6eabb4a4",
   "metadata": {
    "vscode": {
     "languageId": "quarto"
    }
   },
   "outputs": [],
   "source": [
    "with open(\"/Users/sushmitarajan/econ470spring2025/Homework1/Submission2/analysis/hwk1analysis.ipynb\") as file:\n",
    "    exec(file.read())\n",
    "\n",
    "# My answers to the homework questions are described below. The GitHub repository for this work is available \n",
    "#[here](https://github.com/sarajan03/econ470spring2025/tree/main/Homework1/Submission2).\n",
    "\n",
    "# My file did not want to download as a pdf so have to use a html to download as pdf"
   ]
  },
  {
   "cell_type": "code",
   "execution_count": null,
   "id": "88e610e8-66d7-4ee1-a0d0-fbbae516dbfb",
   "metadata": {
    "vscode": {
     "languageId": "quarto"
    }
   },
   "outputs": [],
   "source": [
    "with open(\"/Users/sushmitarajan/econ470spring2025/Homework1/Submission2/analysis/hwk1analysis.ipynb\") as file:\n",
    "    exec(file.read())\n",
    "\n",
    "# My answers to the homework questions are described below. The GitHub repository for this work is available \n",
    "#[here](https://github.com/sarajan03/econ470spring2025/tree/main/Homework1/Submission2).\n",
    "\n",
    "# My file did not want to download as a pdf so have to use a html to download as pdf"
   ]
  },
  {
   "cell_type": "code",
   "execution_count": null,
   "id": "41b9fbcf-6bca-49f3-939d-afc703195205",
   "metadata": {
    "vscode": {
     "languageId": "quarto"
    }
   },
   "outputs": [
    {
     "ename": "NameError",
     "evalue": "name 'plans_per_type' is not defined",
     "output_type": "error",
     "traceback": [
      "\u001b[0;31m---------------------------------------------------------------------------\u001b[0m",
      "\u001b[0;31mNameError\u001b[0m                                 Traceback (most recent call last)",
      "File \u001b[1;32m/Users/sushmitarajan/econ470spring2025/Homework1/Submission2/rajanhwk1.qmd:2\u001b[0m\n\u001b[1;32m      1\u001b[0m \u001b[39m# Sort the pivot table by the sum of the counts across all years (descending)\u001b[39;00m\n\u001b[0;32m----> 2\u001b[0m plans_per_type_sorted \u001b[39m=\u001b[39m plans_per_type\u001b[39m.\u001b[39mloc[plans_per_type\u001b[39m.\u001b[39msum(axis\u001b[39m=\u001b[39m\u001b[39m1\u001b[39m)\u001b[39m.\u001b[39msort_values(ascending\u001b[39m=\u001b[39m\u001b[39mFalse\u001b[39;00m)\u001b[39m.\u001b[39mindex]\n\u001b[1;32m      4\u001b[0m \u001b[39m# Rename columns for clarity, such as 'Plan Type' for the index column and 'Year' for the year columns\u001b[39;00m\n\u001b[1;32m      5\u001b[0m plans_per_type_sorted\u001b[39m.\u001b[39mindex\u001b[39m.\u001b[39mname \u001b[39m=\u001b[39m \u001b[39m'\u001b[39m\u001b[39mPlan Type\u001b[39m\u001b[39m'\u001b[39m  \u001b[39m# Label for the index (rows)\u001b[39;00m\n",
      "\u001b[0;31mNameError\u001b[0m: name 'plans_per_type' is not defined"
     ]
    }
   ],
   "source": [
    "# Sort the pivot table by the sum of the counts across all years (descending)\n",
    "plans_per_type_sorted = plans_per_type.loc[plans_per_type.sum(axis=1).sort_values(ascending=False).index]\n",
    "\n",
    "# Rename columns for clarity, such as 'Plan Type' for the index column and 'Year' for the year columns\n",
    "plans_per_type_sorted.index.name = 'Plan Type'  # Label for the index (rows)\n",
    "\n",
    "# Format the table with commas in counts for readability\n",
    "plans_per_type_sorted = plans_per_type_sorted.style.format(\"{:,}\")\n",
    "\n",
    "# Display the formatted table\n",
    "plans_per_type_sorted"
   ]
  },
  {
   "cell_type": "code",
   "execution_count": null,
   "id": "64621da9-f4f4-4d11-8d16-8c22bb96d410",
   "metadata": {
    "vscode": {
     "languageId": "quarto"
    }
   },
   "outputs": [
    {
     "name": "stderr",
     "output_type": "stream",
     "text": [
      "<string>:8: DtypeWarning: Columns (10) have mixed types. Specify dtype option on import or set low_memory=False.\n"
     ]
    }
   ],
   "source": [
    "with open(\"/Users/sushmitarajan/econ470spring2025/Homework1/Submission2/analysis/hwk-1-analysis.py\") as file:\n",
    "    exec(file.read())\n",
    "\n",
    "# My answers to the homework questions are described below. The GitHub repository for this work is available \n",
    "#[here](https://github.com/sarajan03/econ470spring2025/tree/main/Homework1/Submission2).\n",
    "\n",
    "# My file did not want to download as a pdf so have to use a html to download as pdf"
   ]
  },
  {
   "cell_type": "code",
   "execution_count": null,
   "id": "0f37d5a0-5d22-4aec-881a-fbebd0ef917a",
   "metadata": {
    "vscode": {
     "languageId": "quarto"
    }
   },
   "outputs": [
    {
     "data": {
      "text/html": [
       "<style type=\"text/css\">\n",
       "</style>\n",
       "<table id=\"T_a2058\">\n",
       "  <thead>\n",
       "    <tr>\n",
       "      <th class=\"index_name level0\" >year</th>\n",
       "      <th id=\"T_a2058_level0_col0\" class=\"col_heading level0 col0\" >2015</th>\n",
       "    </tr>\n",
       "    <tr>\n",
       "      <th class=\"index_name level0\" >Plan Type</th>\n",
       "      <th class=\"blank col0\" >&nbsp;</th>\n",
       "    </tr>\n",
       "  </thead>\n",
       "  <tbody>\n",
       "    <tr>\n",
       "      <th id=\"T_a2058_level0_row0\" class=\"row_heading level0 row0\" >Medicare Prescription Drug Plan</th>\n",
       "      <td id=\"T_a2058_row0_col0\" class=\"data row0 col0\" >991,457</td>\n",
       "    </tr>\n",
       "    <tr>\n",
       "      <th id=\"T_a2058_level0_row1\" class=\"row_heading level0 row1\" >Local PPO</th>\n",
       "      <td id=\"T_a2058_row1_col0\" class=\"data row1 col0\" >704,993</td>\n",
       "    </tr>\n",
       "    <tr>\n",
       "      <th id=\"T_a2058_level0_row2\" class=\"row_heading level0 row2\" >HMO/HMOPOS</th>\n",
       "      <td id=\"T_a2058_row2_col0\" class=\"data row2 col0\" >479,275</td>\n",
       "    </tr>\n",
       "    <tr>\n",
       "      <th id=\"T_a2058_level0_row3\" class=\"row_heading level0 row3\" >Employer/Union Only Direct Contract PDP</th>\n",
       "      <td id=\"T_a2058_row3_col0\" class=\"data row3 col0\" >25,630</td>\n",
       "    </tr>\n",
       "    <tr>\n",
       "      <th id=\"T_a2058_level0_row4\" class=\"row_heading level0 row4\" >Regional PPO</th>\n",
       "      <td id=\"T_a2058_row4_col0\" class=\"data row4 col0\" >17,578</td>\n",
       "    </tr>\n",
       "    <tr>\n",
       "      <th id=\"T_a2058_level0_row5\" class=\"row_heading level0 row5\" >PFFS</th>\n",
       "      <td id=\"T_a2058_row5_col0\" class=\"data row5 col0\" >13,658</td>\n",
       "    </tr>\n",
       "    <tr>\n",
       "      <th id=\"T_a2058_level0_row6\" class=\"row_heading level0 row6\" >1876 Cost</th>\n",
       "      <td id=\"T_a2058_row6_col0\" class=\"data row6 col0\" >7,157</td>\n",
       "    </tr>\n",
       "    <tr>\n",
       "      <th id=\"T_a2058_level0_row7\" class=\"row_heading level0 row7\" >MSA</th>\n",
       "      <td id=\"T_a2058_row7_col0\" class=\"data row7 col0\" >6,518</td>\n",
       "    </tr>\n",
       "    <tr>\n",
       "      <th id=\"T_a2058_level0_row8\" class=\"row_heading level0 row8\" >Medicare-Medicaid Plan HMO/HMOPOS</th>\n",
       "      <td id=\"T_a2058_row8_col0\" class=\"data row8 col0\" >4,130</td>\n",
       "    </tr>\n",
       "    <tr>\n",
       "      <th id=\"T_a2058_level0_row9\" class=\"row_heading level0 row9\" >National PACE</th>\n",
       "      <td id=\"T_a2058_row9_col0\" class=\"data row9 col0\" >1,216</td>\n",
       "    </tr>\n",
       "  </tbody>\n",
       "</table>\n"
      ],
      "text/plain": [
       "<pandas.io.formats.style.Styler at 0x10fb34610>"
      ]
     },
     "execution_count": 10,
     "metadata": {},
     "output_type": "execute_result"
    }
   ],
   "source": [
    "# Sort the pivot table by the sum of the counts across all years (descending)\n",
    "plans_per_type_sorted = plans_per_type.loc[plans_per_type.sum(axis=1).sort_values(ascending=False).index]\n",
    "\n",
    "# Rename columns for clarity, such as 'Plan Type' for the index column and 'Year' for the year columns\n",
    "plans_per_type_sorted.index.name = 'Plan Type'  # Label for the index (rows)\n",
    "\n",
    "# Format the table with commas in counts for readability\n",
    "plans_per_type_sorted = plans_per_type_sorted.style.format(\"{:,}\")\n",
    "\n",
    "# Display the formatted table\n",
    "plans_per_type_sorted"
   ]
  },
  {
   "cell_type": "code",
   "execution_count": null,
   "id": "316b42af-e5d1-4d74-9586-cca9fad8e1bb",
   "metadata": {
    "vscode": {
     "languageId": "quarto"
    }
   },
   "outputs": [
    {
     "data": {
      "text/html": [
       "<style type=\"text/css\">\n",
       "</style>\n",
       "<table id=\"T_b74fb\">\n",
       "  <thead>\n",
       "    <tr>\n",
       "      <th class=\"index_name level0\" >year</th>\n",
       "      <th id=\"T_b74fb_level0_col0\" class=\"col_heading level0 col0\" >2015</th>\n",
       "    </tr>\n",
       "    <tr>\n",
       "      <th class=\"index_name level0\" >Plan Type</th>\n",
       "      <th class=\"blank col0\" >&nbsp;</th>\n",
       "    </tr>\n",
       "  </thead>\n",
       "  <tbody>\n",
       "    <tr>\n",
       "      <th id=\"T_b74fb_level0_row0\" class=\"row_heading level0 row0\" >Medicare Prescription Drug Plan</th>\n",
       "      <td id=\"T_b74fb_row0_col0\" class=\"data row0 col0\" >269,153</td>\n",
       "    </tr>\n",
       "    <tr>\n",
       "      <th id=\"T_b74fb_level0_row1\" class=\"row_heading level0 row1\" >HMO/HMOPOS</th>\n",
       "      <td id=\"T_b74fb_row1_col0\" class=\"data row1 col0\" >36,588</td>\n",
       "    </tr>\n",
       "    <tr>\n",
       "      <th id=\"T_b74fb_level0_row2\" class=\"row_heading level0 row2\" >Local PPO</th>\n",
       "      <td id=\"T_b74fb_row2_col0\" class=\"data row2 col0\" >16,728</td>\n",
       "    </tr>\n",
       "    <tr>\n",
       "      <th id=\"T_b74fb_level0_row3\" class=\"row_heading level0 row3\" >Regional PPO</th>\n",
       "      <td id=\"T_b74fb_row3_col0\" class=\"data row3 col0\" >8,531</td>\n",
       "    </tr>\n",
       "    <tr>\n",
       "      <th id=\"T_b74fb_level0_row4\" class=\"row_heading level0 row4\" >1876 Cost</th>\n",
       "      <td id=\"T_b74fb_row4_col0\" class=\"data row4 col0\" >6,329</td>\n",
       "    </tr>\n",
       "    <tr>\n",
       "      <th id=\"T_b74fb_level0_row5\" class=\"row_heading level0 row5\" >PFFS</th>\n",
       "      <td id=\"T_b74fb_row5_col0\" class=\"data row5 col0\" >4,232</td>\n",
       "    </tr>\n",
       "    <tr>\n",
       "      <th id=\"T_b74fb_level0_row6\" class=\"row_heading level0 row6\" >Medicare-Medicaid Plan HMO/HMOPOS</th>\n",
       "      <td id=\"T_b74fb_row6_col0\" class=\"data row6 col0\" >4,130</td>\n",
       "    </tr>\n",
       "    <tr>\n",
       "      <th id=\"T_b74fb_level0_row7\" class=\"row_heading level0 row7\" >National PACE</th>\n",
       "      <td id=\"T_b74fb_row7_col0\" class=\"data row7 col0\" >1,216</td>\n",
       "    </tr>\n",
       "    <tr>\n",
       "      <th id=\"T_b74fb_level0_row8\" class=\"row_heading level0 row8\" >MSA</th>\n",
       "      <td id=\"T_b74fb_row8_col0\" class=\"data row8 col0\" >232</td>\n",
       "    </tr>\n",
       "  </tbody>\n",
       "</table>\n"
      ],
      "text/plain": [
       "<pandas.io.formats.style.Styler at 0x12a85dfd0>"
      ]
     },
     "execution_count": 11,
     "metadata": {},
     "output_type": "execute_result"
    }
   ],
   "source": [
    "# Sort the pivot table by the sum of the counts across all years (descending)\n",
    "plans_per_type2_sorted = plans_per_type2.loc[plans_per_type2.sum(axis=1).sort_values(ascending=False).index]\n",
    "\n",
    "# Rename columns for clarity, such as 'Plan Type' for the index column and 'Year' for the year columns\n",
    "plans_per_type2_sorted.index.name = 'Plan Type'  # Label for the index (rows)\n",
    "\n",
    "# Format the table with commas in counts for readability\n",
    "plans_per_type2_sorted = plans_per_type2_sorted.style.format(\"{:,}\")\n",
    "\n",
    "# Display the formatted table\n",
    "plans_per_type2_sorted"
   ]
  },
  {
   "cell_type": "code",
   "execution_count": null,
   "id": "3a8b1af2-8dba-458f-ac69-a92832834dc0",
   "metadata": {
    "vscode": {
     "languageId": "quarto"
    }
   },
   "outputs": [
    {
     "data": {
      "text/html": [
       "<style type=\"text/css\">\n",
       "</style>\n",
       "<table id=\"T_18898\">\n",
       "  <thead>\n",
       "    <tr>\n",
       "      <th class=\"blank level0\" >&nbsp;</th>\n",
       "      <th id=\"T_18898_level0_col0\" class=\"col_heading level0 col0\" >Count</th>\n",
       "      <th id=\"T_18898_level0_col1\" class=\"col_heading level0 col1\" >Average Enrollment</th>\n",
       "    </tr>\n",
       "    <tr>\n",
       "      <th class=\"index_name level0\" >Plan Type</th>\n",
       "      <th class=\"blank col0\" >&nbsp;</th>\n",
       "      <th class=\"blank col1\" >&nbsp;</th>\n",
       "    </tr>\n",
       "  </thead>\n",
       "  <tbody>\n",
       "    <tr>\n",
       "      <th id=\"T_18898_level0_row0\" class=\"row_heading level0 row0\" >Medicare Prescription Drug Plan</th>\n",
       "      <td id=\"T_18898_row0_col0\" class=\"data row0 col0\" >60236</td>\n",
       "      <td id=\"T_18898_row0_col1\" class=\"data row0 col1\" >311.750481</td>\n",
       "    </tr>\n",
       "    <tr>\n",
       "      <th id=\"T_18898_level0_row1\" class=\"row_heading level0 row1\" >HMO/HMOPOS</th>\n",
       "      <td id=\"T_18898_row1_col0\" class=\"data row1 col0\" >9115</td>\n",
       "      <td id=\"T_18898_row1_col1\" class=\"data row1 col1\" >848.737795</td>\n",
       "    </tr>\n",
       "    <tr>\n",
       "      <th id=\"T_18898_level0_row2\" class=\"row_heading level0 row2\" >Local PPO</th>\n",
       "      <td id=\"T_18898_row2_col0\" class=\"data row2 col0\" >6126</td>\n",
       "      <td id=\"T_18898_row2_col1\" class=\"data row2 col1\" >310.741267</td>\n",
       "    </tr>\n",
       "    <tr>\n",
       "      <th id=\"T_18898_level0_row3\" class=\"row_heading level0 row3\" >Regional PPO</th>\n",
       "      <td id=\"T_18898_row3_col0\" class=\"data row3 col0\" >4853</td>\n",
       "      <td id=\"T_18898_row3_col1\" class=\"data row3 col1\" >201.502988</td>\n",
       "    </tr>\n",
       "    <tr>\n",
       "      <th id=\"T_18898_level0_row4\" class=\"row_heading level0 row4\" >PFFS</th>\n",
       "      <td id=\"T_18898_row4_col0\" class=\"data row4 col0\" >2052</td>\n",
       "      <td id=\"T_18898_row4_col1\" class=\"data row4 col1\" >124.583821</td>\n",
       "    </tr>\n",
       "    <tr>\n",
       "      <th id=\"T_18898_level0_row5\" class=\"row_heading level0 row5\" >1876 Cost</th>\n",
       "      <td id=\"T_18898_row5_col0\" class=\"data row5 col0\" >2019</td>\n",
       "      <td id=\"T_18898_row5_col1\" class=\"data row5 col1\" >228.126300</td>\n",
       "    </tr>\n",
       "    <tr>\n",
       "      <th id=\"T_18898_level0_row6\" class=\"row_heading level0 row6\" >Medicare-Medicaid Plan HMO/HMOPOS</th>\n",
       "      <td id=\"T_18898_row6_col0\" class=\"data row6 col0\" >522</td>\n",
       "      <td id=\"T_18898_row6_col1\" class=\"data row6 col1\" >623.963602</td>\n",
       "    </tr>\n",
       "    <tr>\n",
       "      <th id=\"T_18898_level0_row7\" class=\"row_heading level0 row7\" >National PACE</th>\n",
       "      <td id=\"T_18898_row7_col0\" class=\"data row7 col0\" >213</td>\n",
       "      <td id=\"T_18898_row7_col1\" class=\"data row7 col1\" >139.976526</td>\n",
       "    </tr>\n",
       "    <tr>\n",
       "      <th id=\"T_18898_level0_row8\" class=\"row_heading level0 row8\" >MSA</th>\n",
       "      <td id=\"T_18898_row8_col0\" class=\"data row8 col0\" >111</td>\n",
       "      <td id=\"T_18898_row8_col1\" class=\"data row8 col1\" >107.792793</td>\n",
       "    </tr>\n",
       "  </tbody>\n",
       "</table>\n"
      ],
      "text/plain": [
       "<pandas.io.formats.style.Styler at 0x12a8cfb90>"
      ]
     },
     "execution_count": 12,
     "metadata": {},
     "output_type": "execute_result"
    }
   ],
   "source": [
    "# Sort the enrollment_per_type table by 'count' in descending order\n",
    "enrollment_per_type_sorted = enrollment_per_type.sort_values(by='count', ascending=False)\n",
    "\n",
    "# Rename the index for clarity if needed\n",
    "enrollment_per_type_sorted.index.name = 'Plan Type'\n",
    "enrollment_per_type_sorted = enrollment_per_type_sorted.rename(columns={'mean': 'Average Enrollment'})\n",
    "enrollment_per_type_sorted = enrollment_per_type_sorted.rename(columns={'count': 'Count'})\n",
    "\n",
    "# Format the table with commas for readability in both count and mean\n",
    "enrollment_per_type_sorted = enrollment_per_type_sorted.style.format({\n",
    "    'count': \"{:,}\",\n",
    "    'mean': \"{:,.2f}\"  # Format mean to show two decimal places\n",
    "})\n",
    "\n",
    "# Display the formatted table\n",
    "enrollment_per_type_sorted"
   ]
  }
 ],
 "metadata": {
  "language_info": {
   "codemirror_mode": {
    "name": "ipython",
    "version": 3
   },
   "file_extension": ".py",
   "mimetype": "text/x-python",
   "name": "python",
   "nbconvert_exporter": "python",
   "pygments_lexer": "ipython3",
   "version": 3
  }
 },
 "nbformat": 4,
 "nbformat_minor": 2
}
